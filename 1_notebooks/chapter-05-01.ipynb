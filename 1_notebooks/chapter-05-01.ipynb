{
 "cells": [
  {
   "cell_type": "markdown",
   "id": "15c91785",
   "metadata": {},
   "source": [
    "# Encoder-Decoder Translation with Keras"
   ]
  },
  {
   "cell_type": "markdown",
   "id": "890c2026",
   "metadata": {},
   "source": [
    "## The Model"
   ]
  },
  {
   "cell_type": "code",
   "execution_count": 2,
   "id": "4f02fe26",
   "metadata": {},
   "outputs": [],
   "source": [
    "import string\n",
    "import numpy as np\n",
    "\n",
    "from keras.preprocessing.text import Tokenizer\n",
    "from keras.preprocessing.sequence import pad_sequences\n",
    "from keras.models import Model\n",
    "from keras.layers import LSTM, Input, TimeDistributed, Dense, Activation, RepeatVector, Embedding\n",
    "from keras.optimizers import Adam\n",
    "from keras.losses import sparse_categorical_crossentropy\n",
    "\n",
    "# Path to translation file\n",
    "path_to_data = './data/spa.txt'\n",
    "\n",
    "# Read file\n",
    "translation_file = open(path_to_data,\"r\", encoding='utf-8') \n",
    "raw_data = translation_file.read()\n",
    "translation_file.close()\n",
    "\n",
    "# Parse data\n",
    "raw_data = raw_data.split('\\n')\n",
    "pairs = [sentence.split('\\t') for sentence in  raw_data]\n",
    "pairs = pairs[1000:20000]"
   ]
  },
  {
   "cell_type": "code",
   "execution_count": 3,
   "id": "6f4e88f9",
   "metadata": {},
   "outputs": [],
   "source": [
    "def clean_sentence(sentence):\n",
    "    # Lower case the sentence\n",
    "    lower_case_sent = sentence.lower()\n",
    "    # Strip punctuation\n",
    "    string_punctuation = string.punctuation + \"¡\" + '¿'\n",
    "    clean_sentence = lower_case_sent.translate(str.maketrans('', '', string_punctuation))\n",
    "   \n",
    "    return clean_sentence"
   ]
  },
  {
   "cell_type": "code",
   "execution_count": 4,
   "id": "df1282d8",
   "metadata": {},
   "outputs": [],
   "source": [
    "def tokenize(sentences):\n",
    "    # Create tokenizer\n",
    "    text_tokenizer = Tokenizer()\n",
    "    # Fit texts\n",
    "    text_tokenizer.fit_on_texts(sentences)\n",
    "    return text_tokenizer.texts_to_sequences(sentences), text_tokenizer"
   ]
  },
  {
   "cell_type": "code",
   "execution_count": 5,
   "id": "81bb7d94",
   "metadata": {},
   "outputs": [
    {
     "name": "stdout",
     "output_type": "stream",
     "text": [
      "Maximum length spanish sentence: 9\n",
      "Maximum length english sentence: 5\n",
      "Spanish vocabulary is of 7265 unique words\n",
      "English vocabulary is of 3720 unique words\n"
     ]
    }
   ],
   "source": [
    "# Clean sentences\n",
    "english_sentences = [clean_sentence(pair[0]) for pair in pairs]\n",
    "spanish_sentences = [clean_sentence(pair[1]) for pair in pairs]\n",
    "\n",
    "# Tokenize words\n",
    "spa_text_tokenized, spa_text_tokenizer = tokenize(spanish_sentences)\n",
    "eng_text_tokenized, eng_text_tokenizer = tokenize(english_sentences)\n",
    "\n",
    "print('Maximum length spanish sentence: {}'.format(len(max(spa_text_tokenized,key=len))))\n",
    "print('Maximum length english sentence: {}'.format(len(max(eng_text_tokenized,key=len))))\n",
    "\n",
    "\n",
    "# Check language length\n",
    "spanish_vocab = len(spa_text_tokenizer.word_index) + 1\n",
    "english_vocab = len(eng_text_tokenizer.word_index) + 1\n",
    "print(\"Spanish vocabulary is of {} unique words\".format(spanish_vocab))\n",
    "print(\"English vocabulary is of {} unique words\".format(english_vocab))"
   ]
  },
  {
   "cell_type": "code",
   "execution_count": 6,
   "id": "57efb0d8",
   "metadata": {},
   "outputs": [],
   "source": [
    "max_spanish_len = int(len(max(spa_text_tokenized,key=len)))\n",
    "max_english_len = int(len(max(eng_text_tokenized,key=len)))\n",
    "\n",
    "spa_pad_sentence = pad_sequences(spa_text_tokenized, max_spanish_len, padding = \"post\")\n",
    "eng_pad_sentence = pad_sequences(eng_text_tokenized, max_english_len, padding = \"post\")\n",
    "\n",
    "# Reshape data\n",
    "spa_pad_sentence = spa_pad_sentence.reshape(*spa_pad_sentence.shape, 1)\n",
    "eng_pad_sentence = eng_pad_sentence.reshape(*eng_pad_sentence.shape, 1)"
   ]
  },
  {
   "cell_type": "code",
   "execution_count": 7,
   "id": "ae24adc5",
   "metadata": {},
   "outputs": [],
   "source": [
    "input_sequence = Input(shape=(max_spanish_len,))\n",
    "embedding = Embedding(input_dim=spanish_vocab, output_dim=128,)(input_sequence)"
   ]
  },
  {
   "cell_type": "code",
   "execution_count": 8,
   "id": "59287afd",
   "metadata": {},
   "outputs": [],
   "source": [
    "encoder = LSTM(64, return_sequences=False)(embedding)"
   ]
  },
  {
   "cell_type": "code",
   "execution_count": 9,
   "id": "6ef37694",
   "metadata": {},
   "outputs": [],
   "source": [
    "r_vec = RepeatVector(max_english_len)(encoder)"
   ]
  },
  {
   "cell_type": "code",
   "execution_count": 10,
   "id": "61db86db",
   "metadata": {},
   "outputs": [],
   "source": [
    "decoder = LSTM(64, return_sequences=True, dropout=0.2)(r_vec)"
   ]
  },
  {
   "cell_type": "code",
   "execution_count": 11,
   "id": "9fec39e4",
   "metadata": {},
   "outputs": [],
   "source": [
    "logits = TimeDistributed(Dense(english_vocab))(decoder)"
   ]
  },
  {
   "cell_type": "code",
   "execution_count": 12,
   "id": "88931ead",
   "metadata": {},
   "outputs": [
    {
     "name": "stdout",
     "output_type": "stream",
     "text": [
      "Model: \"model\"\n",
      "_________________________________________________________________\n",
      " Layer (type)                Output Shape              Param #   \n",
      "=================================================================\n",
      " input_1 (InputLayer)        [(None, 9)]               0         \n",
      "                                                                 \n",
      " embedding (Embedding)       (None, 9, 128)            929920    \n",
      "                                                                 \n",
      " lstm (LSTM)                 (None, 64)                49408     \n",
      "                                                                 \n",
      " repeat_vector (RepeatVecto  (None, 5, 64)             0         \n",
      " r)                                                              \n",
      "                                                                 \n",
      " lstm_1 (LSTM)               (None, 5, 64)             33024     \n",
      "                                                                 \n",
      " time_distributed (TimeDist  (None, 5, 3720)           241800    \n",
      " ributed)                                                        \n",
      "                                                                 \n",
      " activation (Activation)     (None, 5, 3720)           0         \n",
      "                                                                 \n",
      "=================================================================\n",
      "Total params: 1254152 (4.78 MB)\n",
      "Trainable params: 1254152 (4.78 MB)\n",
      "Non-trainable params: 0 (0.00 Byte)\n",
      "_________________________________________________________________\n"
     ]
    }
   ],
   "source": [
    "enc_dec_model = Model(input_sequence, Activation('softmax')(logits))\n",
    "enc_dec_model.compile(loss=sparse_categorical_crossentropy,\n",
    "              optimizer=Adam(1e-3),\n",
    "              metrics=['accuracy'])\n",
    "enc_dec_model.summary()"
   ]
  },
  {
   "cell_type": "code",
   "execution_count": 13,
   "id": "f787e25f",
   "metadata": {},
   "outputs": [
    {
     "name": "stdout",
     "output_type": "stream",
     "text": [
      "Epoch 1/100\n",
      "634/634 [==============================] - 30s 38ms/step - loss: 4.5747 - accuracy: 0.3593\n",
      "Epoch 2/100\n",
      "634/634 [==============================] - 25s 39ms/step - loss: 3.9379 - accuracy: 0.3942\n",
      "Epoch 3/100\n",
      "634/634 [==============================] - 24s 38ms/step - loss: 3.7561 - accuracy: 0.4029\n",
      "Epoch 4/100\n",
      "634/634 [==============================] - 25s 39ms/step - loss: 3.5902 - accuracy: 0.4151\n",
      "Epoch 5/100\n",
      "634/634 [==============================] - 24s 38ms/step - loss: 3.3941 - accuracy: 0.4374\n",
      "Epoch 6/100\n",
      "634/634 [==============================] - 23s 36ms/step - loss: 3.2046 - accuracy: 0.4610\n",
      "Epoch 7/100\n",
      "634/634 [==============================] - 23s 37ms/step - loss: 3.0249 - accuracy: 0.4828\n",
      "Epoch 8/100\n",
      "634/634 [==============================] - 23s 37ms/step - loss: 2.8624 - accuracy: 0.5020\n",
      "Epoch 9/100\n",
      "634/634 [==============================] - 21s 34ms/step - loss: 2.7222 - accuracy: 0.5177\n",
      "Epoch 10/100\n",
      "634/634 [==============================] - 22s 34ms/step - loss: 2.5993 - accuracy: 0.5319\n",
      "Epoch 11/100\n",
      "634/634 [==============================] - 22s 34ms/step - loss: 2.4891 - accuracy: 0.5438\n",
      "Epoch 12/100\n",
      "634/634 [==============================] - 23s 36ms/step - loss: 2.3861 - accuracy: 0.5566\n",
      "Epoch 13/100\n",
      "634/634 [==============================] - 21s 33ms/step - loss: 2.2869 - accuracy: 0.5684\n",
      "Epoch 14/100\n",
      "634/634 [==============================] - 21s 33ms/step - loss: 2.1983 - accuracy: 0.5800\n",
      "Epoch 15/100\n",
      "634/634 [==============================] - 22s 34ms/step - loss: 2.1168 - accuracy: 0.5894\n",
      "Epoch 16/100\n",
      "634/634 [==============================] - 22s 35ms/step - loss: 2.0388 - accuracy: 0.5981\n",
      "Epoch 17/100\n",
      "634/634 [==============================] - 22s 35ms/step - loss: 1.9612 - accuracy: 0.6079\n",
      "Epoch 18/100\n",
      "634/634 [==============================] - 24s 37ms/step - loss: 1.8929 - accuracy: 0.6153\n",
      "Epoch 19/100\n",
      "634/634 [==============================] - 22s 34ms/step - loss: 1.8233 - accuracy: 0.6242\n",
      "Epoch 20/100\n",
      "634/634 [==============================] - 23s 36ms/step - loss: 1.7576 - accuracy: 0.6334\n",
      "Epoch 21/100\n",
      "634/634 [==============================] - 23s 36ms/step - loss: 1.6926 - accuracy: 0.6415\n",
      "Epoch 22/100\n",
      "634/634 [==============================] - 21s 34ms/step - loss: 1.6341 - accuracy: 0.6515\n",
      "Epoch 23/100\n",
      "634/634 [==============================] - 22s 35ms/step - loss: 1.5749 - accuracy: 0.6593\n",
      "Epoch 24/100\n",
      "634/634 [==============================] - 21s 34ms/step - loss: 1.5188 - accuracy: 0.6676\n",
      "Epoch 25/100\n",
      "634/634 [==============================] - 21s 34ms/step - loss: 1.4635 - accuracy: 0.6770\n",
      "Epoch 26/100\n",
      "634/634 [==============================] - 23s 36ms/step - loss: 1.4090 - accuracy: 0.6871\n",
      "Epoch 27/100\n",
      "634/634 [==============================] - 22s 35ms/step - loss: 1.3606 - accuracy: 0.6947\n",
      "Epoch 28/100\n",
      "634/634 [==============================] - 22s 35ms/step - loss: 1.3119 - accuracy: 0.7040\n",
      "Epoch 29/100\n",
      "634/634 [==============================] - 22s 35ms/step - loss: 1.2619 - accuracy: 0.7137\n",
      "Epoch 30/100\n",
      "634/634 [==============================] - 22s 35ms/step - loss: 1.2156 - accuracy: 0.7213\n",
      "Epoch 31/100\n",
      "634/634 [==============================] - 22s 35ms/step - loss: 1.1738 - accuracy: 0.7300\n",
      "Epoch 32/100\n",
      "634/634 [==============================] - 22s 35ms/step - loss: 1.1305 - accuracy: 0.7377\n",
      "Epoch 33/100\n",
      "634/634 [==============================] - 21s 34ms/step - loss: 1.0905 - accuracy: 0.7444\n",
      "Epoch 34/100\n",
      "634/634 [==============================] - 24s 38ms/step - loss: 1.0521 - accuracy: 0.7531\n",
      "Epoch 35/100\n",
      "634/634 [==============================] - 23s 36ms/step - loss: 1.0135 - accuracy: 0.7617\n",
      "Epoch 36/100\n",
      "634/634 [==============================] - 22s 34ms/step - loss: 0.9768 - accuracy: 0.7683\n",
      "Epoch 37/100\n",
      "634/634 [==============================] - 21s 33ms/step - loss: 0.9420 - accuracy: 0.7770\n",
      "Epoch 38/100\n",
      "634/634 [==============================] - 21s 34ms/step - loss: 0.9103 - accuracy: 0.7828\n",
      "Epoch 39/100\n",
      "634/634 [==============================] - 24s 37ms/step - loss: 0.8822 - accuracy: 0.7904\n",
      "Epoch 40/100\n",
      "634/634 [==============================] - 22s 34ms/step - loss: 0.8497 - accuracy: 0.7971\n",
      "Epoch 41/100\n",
      "634/634 [==============================] - 22s 35ms/step - loss: 0.8244 - accuracy: 0.8018\n",
      "Epoch 42/100\n",
      "634/634 [==============================] - 21s 33ms/step - loss: 0.7937 - accuracy: 0.8086\n",
      "Epoch 43/100\n",
      "634/634 [==============================] - 21s 33ms/step - loss: 0.7698 - accuracy: 0.8136\n",
      "Epoch 44/100\n",
      "634/634 [==============================] - 22s 35ms/step - loss: 0.7495 - accuracy: 0.8176\n",
      "Epoch 45/100\n",
      "634/634 [==============================] - 21s 34ms/step - loss: 0.7249 - accuracy: 0.8232\n",
      "Epoch 46/100\n",
      "634/634 [==============================] - 22s 35ms/step - loss: 0.6999 - accuracy: 0.8290\n",
      "Epoch 47/100\n",
      "634/634 [==============================] - 24s 38ms/step - loss: 0.6843 - accuracy: 0.8322\n",
      "Epoch 48/100\n",
      "634/634 [==============================] - 23s 36ms/step - loss: 0.6621 - accuracy: 0.8373\n",
      "Epoch 49/100\n",
      "634/634 [==============================] - 21s 34ms/step - loss: 0.6447 - accuracy: 0.8403\n",
      "Epoch 50/100\n",
      "634/634 [==============================] - 22s 35ms/step - loss: 0.6248 - accuracy: 0.8447\n",
      "Epoch 51/100\n",
      "634/634 [==============================] - 22s 35ms/step - loss: 0.6079 - accuracy: 0.8482\n",
      "Epoch 52/100\n",
      "634/634 [==============================] - 22s 35ms/step - loss: 0.5944 - accuracy: 0.8510\n",
      "Epoch 53/100\n",
      "634/634 [==============================] - 21s 33ms/step - loss: 0.5757 - accuracy: 0.8538\n",
      "Epoch 54/100\n",
      "634/634 [==============================] - 21s 34ms/step - loss: 0.5649 - accuracy: 0.8571\n",
      "Epoch 55/100\n",
      "634/634 [==============================] - 22s 34ms/step - loss: 0.5505 - accuracy: 0.8609\n",
      "Epoch 56/100\n",
      "634/634 [==============================] - 23s 36ms/step - loss: 0.5344 - accuracy: 0.8642\n",
      "Epoch 57/100\n",
      "634/634 [==============================] - 23s 37ms/step - loss: 0.5207 - accuracy: 0.8665\n",
      "Epoch 58/100\n",
      "634/634 [==============================] - 21s 34ms/step - loss: 0.5114 - accuracy: 0.8679\n",
      "Epoch 59/100\n",
      "634/634 [==============================] - 22s 35ms/step - loss: 0.4982 - accuracy: 0.8709\n",
      "Epoch 60/100\n",
      "634/634 [==============================] - 22s 34ms/step - loss: 0.4897 - accuracy: 0.8734\n",
      "Epoch 61/100\n",
      "634/634 [==============================] - 22s 35ms/step - loss: 0.4791 - accuracy: 0.8750\n",
      "Epoch 62/100\n",
      "634/634 [==============================] - 21s 32ms/step - loss: 0.4669 - accuracy: 0.8773\n",
      "Epoch 63/100\n",
      "634/634 [==============================] - 24s 37ms/step - loss: 0.4549 - accuracy: 0.8799\n",
      "Epoch 64/100\n",
      "634/634 [==============================] - 21s 34ms/step - loss: 0.4494 - accuracy: 0.8818\n",
      "Epoch 65/100\n",
      "634/634 [==============================] - 21s 34ms/step - loss: 0.4398 - accuracy: 0.8818\n",
      "Epoch 66/100\n",
      "634/634 [==============================] - 22s 35ms/step - loss: 0.4309 - accuracy: 0.8854\n",
      "Epoch 67/100\n",
      "634/634 [==============================] - 22s 35ms/step - loss: 0.4220 - accuracy: 0.8863\n",
      "Epoch 68/100\n",
      "634/634 [==============================] - 22s 35ms/step - loss: 0.4150 - accuracy: 0.8889\n",
      "Epoch 69/100\n",
      "634/634 [==============================] - 22s 34ms/step - loss: 0.4070 - accuracy: 0.8897\n",
      "Epoch 70/100\n",
      "634/634 [==============================] - 23s 37ms/step - loss: 0.4000 - accuracy: 0.8905\n",
      "Epoch 71/100\n",
      "634/634 [==============================] - 23s 36ms/step - loss: 0.3916 - accuracy: 0.8929\n",
      "Epoch 72/100\n",
      "634/634 [==============================] - 24s 38ms/step - loss: 0.3878 - accuracy: 0.8940\n",
      "Epoch 73/100\n",
      "634/634 [==============================] - 23s 37ms/step - loss: 0.3800 - accuracy: 0.8947\n",
      "Epoch 74/100\n",
      "634/634 [==============================] - 22s 35ms/step - loss: 0.3729 - accuracy: 0.8963\n",
      "Epoch 75/100\n",
      "634/634 [==============================] - 22s 34ms/step - loss: 0.3669 - accuracy: 0.8978\n",
      "Epoch 76/100\n",
      "634/634 [==============================] - 24s 38ms/step - loss: 0.3632 - accuracy: 0.8988\n",
      "Epoch 77/100\n",
      "634/634 [==============================] - 23s 36ms/step - loss: 0.3535 - accuracy: 0.9014\n",
      "Epoch 78/100\n",
      "634/634 [==============================] - 24s 37ms/step - loss: 0.3500 - accuracy: 0.9021\n",
      "Epoch 79/100\n"
     ]
    },
    {
     "name": "stdout",
     "output_type": "stream",
     "text": [
      "634/634 [==============================] - 21s 34ms/step - loss: 0.3422 - accuracy: 0.9028\n",
      "Epoch 80/100\n",
      "634/634 [==============================] - 24s 38ms/step - loss: 0.3401 - accuracy: 0.9043\n",
      "Epoch 81/100\n",
      "634/634 [==============================] - 23s 37ms/step - loss: 0.3331 - accuracy: 0.9042\n",
      "Epoch 82/100\n",
      "634/634 [==============================] - 22s 34ms/step - loss: 0.3310 - accuracy: 0.9055\n",
      "Epoch 83/100\n",
      "634/634 [==============================] - 22s 35ms/step - loss: 0.3233 - accuracy: 0.9080\n",
      "Epoch 84/100\n",
      "634/634 [==============================] - 22s 35ms/step - loss: 0.3191 - accuracy: 0.9076\n",
      "Epoch 85/100\n",
      "634/634 [==============================] - 24s 38ms/step - loss: 0.3157 - accuracy: 0.9081\n",
      "Epoch 86/100\n",
      "634/634 [==============================] - 22s 35ms/step - loss: 0.3105 - accuracy: 0.9100\n",
      "Epoch 87/100\n",
      "634/634 [==============================] - 24s 38ms/step - loss: 0.3087 - accuracy: 0.9095\n",
      "Epoch 88/100\n",
      "634/634 [==============================] - 25s 39ms/step - loss: 0.3047 - accuracy: 0.9104\n",
      "Epoch 89/100\n",
      "634/634 [==============================] - 23s 36ms/step - loss: 0.3008 - accuracy: 0.9122\n",
      "Epoch 90/100\n",
      "634/634 [==============================] - 21s 33ms/step - loss: 0.2969 - accuracy: 0.9116\n",
      "Epoch 91/100\n",
      "634/634 [==============================] - 29s 45ms/step - loss: 0.2911 - accuracy: 0.9139\n",
      "Epoch 92/100\n",
      "634/634 [==============================] - 22s 35ms/step - loss: 0.2863 - accuracy: 0.9152\n",
      "Epoch 93/100\n",
      "634/634 [==============================] - 22s 34ms/step - loss: 0.2850 - accuracy: 0.9151\n",
      "Epoch 94/100\n",
      "634/634 [==============================] - 22s 34ms/step - loss: 0.2822 - accuracy: 0.9154\n",
      "Epoch 95/100\n",
      "634/634 [==============================] - 21s 32ms/step - loss: 0.2791 - accuracy: 0.9167\n",
      "Epoch 96/100\n",
      "634/634 [==============================] - 24s 37ms/step - loss: 0.2739 - accuracy: 0.9170\n",
      "Epoch 97/100\n",
      "634/634 [==============================] - 23s 37ms/step - loss: 0.2752 - accuracy: 0.9169\n",
      "Epoch 98/100\n",
      "634/634 [==============================] - 24s 38ms/step - loss: 0.2699 - accuracy: 0.9182\n",
      "Epoch 99/100\n",
      "634/634 [==============================] - 22s 34ms/step - loss: 0.2637 - accuracy: 0.9205\n",
      "Epoch 100/100\n",
      "634/634 [==============================] - 22s 34ms/step - loss: 0.2630 - accuracy: 0.9203\n"
     ]
    }
   ],
   "source": [
    "model_results = enc_dec_model.fit(spa_pad_sentence, eng_pad_sentence, batch_size=30, epochs=100)"
   ]
  },
  {
   "cell_type": "code",
   "execution_count": 15,
   "id": "5672bd5a",
   "metadata": {},
   "outputs": [
    {
     "name": "stdout",
     "output_type": "stream",
     "text": [
      "The english sentence is: toms safe\n",
      "The spanish sentence is: tom está seguro\n",
      "The predicted sentence is :\n",
      "1/1 [==============================] - 0s 24ms/step\n",
      "toms tom sure <empty> <empty>\n"
     ]
    }
   ],
   "source": [
    "def logits_to_sentence(logits, tokenizer):\n",
    "\n",
    "    index_to_words = {idx: word for word, idx in tokenizer.word_index.items()}\n",
    "    index_to_words[0] = '<empty>' \n",
    "\n",
    "    return ' '.join([index_to_words[prediction] for prediction in np.argmax(logits, 1)])\n",
    "\n",
    "index = 900\n",
    "print(\"The english sentence is: {}\".format(english_sentences[index]))\n",
    "print(\"The spanish sentence is: {}\".format(spanish_sentences[index]))\n",
    "print('The predicted sentence is :')\n",
    "print(logits_to_sentence(enc_dec_model.predict(spa_pad_sentence[index:index+1])[0], eng_text_tokenizer))"
   ]
  },
  {
   "cell_type": "markdown",
   "id": "3d73b6ee",
   "metadata": {},
   "source": [
    "## Reference and Credits"
   ]
  },
  {
   "cell_type": "markdown",
   "id": "a291821c",
   "metadata": {},
   "source": [
    "- Nechu BM, **[How to build an encoder decoder translation model using LSTM with Python and Keras](https://towardsdatascience.com/how-to-build-an-encoder-decoder-translation-model-using-lstm-with-python-and-keras-a31e9d864b9b)**"
   ]
  }
 ],
 "metadata": {
  "kernelspec": {
   "display_name": "Python 3 (ipykernel)",
   "language": "python",
   "name": "python3"
  },
  "language_info": {
   "codemirror_mode": {
    "name": "ipython",
    "version": 3
   },
   "file_extension": ".py",
   "mimetype": "text/x-python",
   "name": "python",
   "nbconvert_exporter": "python",
   "pygments_lexer": "ipython3",
   "version": "3.10.9"
  },
  "toc": {
   "base_numbering": "5",
   "nav_menu": {},
   "number_sections": true,
   "sideBar": true,
   "skip_h1_title": false,
   "title_cell": "Table of Contents",
   "title_sidebar": "Contents",
   "toc_cell": false,
   "toc_position": {},
   "toc_section_display": true,
   "toc_window_display": false
  }
 },
 "nbformat": 4,
 "nbformat_minor": 5
}
