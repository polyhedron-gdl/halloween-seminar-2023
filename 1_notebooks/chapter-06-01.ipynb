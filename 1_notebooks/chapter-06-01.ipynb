{
 "cells": [
  {
   "cell_type": "markdown",
   "id": "fc1df27f",
   "metadata": {},
   "source": [
    "<table align=\"left\">\n",
    "  <td>\n",
    "    <a target=\"_blank\" href=\"https://colab.research.google.com/github/polyhedron-gdl/halloween-seminar-2023/blob/main/1_notebooks/chapter-06-01.ipynb\">\n",
    "        <img src=\"https://www.tensorflow.org/images/colab_logo_32px.png\" />Run in Google Colab</a>\n",
    "  </td>\n",
    "</table>"
   ]
  },
  {
   "cell_type": "markdown",
   "id": "7642c3e7",
   "metadata": {},
   "source": [
    "# Word Embedding"
   ]
  },
  {
   "cell_type": "code",
   "execution_count": 1,
   "id": "9ecc891e",
   "metadata": {},
   "outputs": [],
   "source": [
    "import re\n",
    "import nltk\n",
    "import numpy  as np\n",
    "import pandas as pd"
   ]
  },
  {
   "cell_type": "markdown",
   "id": "70791adb",
   "metadata": {},
   "source": [
    "## What are Word Vectorization and Why It is so Important\n",
    "\n",
    "Word vectorization generically refers to techniques used to convert text into numbers. There may be different numerical representations of the same text. \n",
    "\n",
    "Many Machine Learning algorithms and almost all Deep Learning Architectures are incapable of processing *strings* or *plain text* in their raw form. They require numbers as inputs to perform any sort of job, be it classification, regression, etc. in broad terms.\n"
   ]
  },
  {
   "cell_type": "markdown",
   "id": "39baeec2",
   "metadata": {},
   "source": [
    "## Bag-of-Words (BOW)"
   ]
  },
  {
   "cell_type": "markdown",
   "id": "c1c1af1f",
   "metadata": {},
   "source": [
    "As we have already said, in order to perform machine learning on text, we need to transform our documents into vector representations such that we can apply numeric machine learning. This process is called feature extraction or more simply, vectorization.\n",
    "\n",
    "We will explore several choices, each of which extends or modifies the base bag-of-words model to describe semantic space. We will look at four types of vector encoding - frequency, one-hot, TF-IDF, and distributed representations - and discuss their implementations in Scikit-Learn, Gensim, and NLTK."
   ]
  },
  {
   "cell_type": "markdown",
   "id": "2623ce0d",
   "metadata": {},
   "source": [
    "### Sample corpus of text documents"
   ]
  },
  {
   "cell_type": "markdown",
   "id": "ef4c9e83",
   "metadata": {},
   "source": [
    "<table><tr>\n",
    "<td> <img align=\"left\" width=\"100\" height=\"100\" src=\"./img/text_analytics_with_python.jpg\"/> </td>\n",
    "<td> The following examples are taken from \"Text Analytics with Python\" by Dipanjan Sarkar (Apress, 2019).     </td>\n",
    "</tr></table>\n",
    "\n",
    "[Here](https://github.com/Apress/text-analytics-w-python-2e) you can find the original notebook used in the aforementioned textbook."
   ]
  },
  {
   "cell_type": "markdown",
   "id": "4d5071ff",
   "metadata": {},
   "source": [
    "The following code is for creating a dataset of text documents along with their corresponding categories using the Python libraries NumPy and Pandas. It creates a Pandas DataFrame called `corpus_df` with two columns: **Document** and **Category**."
   ]
  },
  {
   "cell_type": "code",
   "execution_count": 7,
   "id": "69d9b5d3",
   "metadata": {},
   "outputs": [
    {
     "data": {
      "text/html": [
       "<div>\n",
       "<style scoped>\n",
       "    .dataframe tbody tr th:only-of-type {\n",
       "        vertical-align: middle;\n",
       "    }\n",
       "\n",
       "    .dataframe tbody tr th {\n",
       "        vertical-align: top;\n",
       "    }\n",
       "\n",
       "    .dataframe thead th {\n",
       "        text-align: right;\n",
       "    }\n",
       "</style>\n",
       "<table border=\"1\" class=\"dataframe\">\n",
       "  <thead>\n",
       "    <tr style=\"text-align: right;\">\n",
       "      <th></th>\n",
       "      <th>Document</th>\n",
       "      <th>Category</th>\n",
       "    </tr>\n",
       "  </thead>\n",
       "  <tbody>\n",
       "    <tr>\n",
       "      <th>0</th>\n",
       "      <td>The sky is blue and beautiful.</td>\n",
       "      <td>weather</td>\n",
       "    </tr>\n",
       "    <tr>\n",
       "      <th>1</th>\n",
       "      <td>Love this blue and beautiful sky!</td>\n",
       "      <td>weather</td>\n",
       "    </tr>\n",
       "    <tr>\n",
       "      <th>2</th>\n",
       "      <td>The quick brown fox jumps over the lazy dog.</td>\n",
       "      <td>animals</td>\n",
       "    </tr>\n",
       "    <tr>\n",
       "      <th>3</th>\n",
       "      <td>A king's breakfast has sausages, ham, bacon, e...</td>\n",
       "      <td>food</td>\n",
       "    </tr>\n",
       "    <tr>\n",
       "      <th>4</th>\n",
       "      <td>I love green eggs, ham, sausages and bacon!</td>\n",
       "      <td>food</td>\n",
       "    </tr>\n",
       "    <tr>\n",
       "      <th>5</th>\n",
       "      <td>The brown fox is quick and the blue dog is lazy!</td>\n",
       "      <td>animals</td>\n",
       "    </tr>\n",
       "    <tr>\n",
       "      <th>6</th>\n",
       "      <td>The sky is very blue and the sky is very beaut...</td>\n",
       "      <td>weather</td>\n",
       "    </tr>\n",
       "    <tr>\n",
       "      <th>7</th>\n",
       "      <td>The dog is lazy but the brown fox is quick!</td>\n",
       "      <td>animals</td>\n",
       "    </tr>\n",
       "  </tbody>\n",
       "</table>\n",
       "</div>"
      ],
      "text/plain": [
       "                                            Document Category\n",
       "0                     The sky is blue and beautiful.  weather\n",
       "1                  Love this blue and beautiful sky!  weather\n",
       "2       The quick brown fox jumps over the lazy dog.  animals\n",
       "3  A king's breakfast has sausages, ham, bacon, e...     food\n",
       "4        I love green eggs, ham, sausages and bacon!     food\n",
       "5   The brown fox is quick and the blue dog is lazy!  animals\n",
       "6  The sky is very blue and the sky is very beaut...  weather\n",
       "7        The dog is lazy but the brown fox is quick!  animals"
      ]
     },
     "execution_count": 7,
     "metadata": {},
     "output_type": "execute_result"
    }
   ],
   "source": [
    "corpus = ['The sky is blue and beautiful.',\n",
    "          'Love this blue and beautiful sky!',\n",
    "          'The quick brown fox jumps over the lazy dog.',\n",
    "          \"A king's breakfast has sausages, ham, bacon, eggs, toast and beans\",\n",
    "          'I love green eggs, ham, sausages and bacon!',\n",
    "          'The brown fox is quick and the blue dog is lazy!',\n",
    "          'The sky is very blue and the sky is very beautiful today',\n",
    "          'The dog is lazy but the brown fox is quick!'    \n",
    "]\n",
    "labels = ['weather', 'weather', 'animals', 'food', 'food', 'animals', 'weather', 'animals']\n",
    "\n",
    "# creates a Pandas DataFrame named corpus_df. The DataFrame has two columns: 'Document' and 'Category'. \n",
    "# Each row in the DataFrame represents a document from the corpus list along with its corresponding \n",
    "# category from the labels list.\n",
    "corpus_df = pd.DataFrame({'Document': corpus, \n",
    "                          'Category': labels})\n",
    "# rearranges the columns in the DataFrame, ensuring that 'Document' comes before 'Category'.\n",
    "corpus_df = corpus_df[['Document', 'Category']]\n",
    "corpus_df"
   ]
  },
  {
   "cell_type": "markdown",
   "id": "eca7f982",
   "metadata": {},
   "source": [
    "### Simple text pre-processing"
   ]
  },
  {
   "cell_type": "markdown",
   "id": "9e77e8f0",
   "metadata": {},
   "source": [
    "The code `nltk.download('stopwords')` is a command used in the Natural Language Toolkit (NLTK) to download a specific NLTK resource, in this case, the \"stopwords\" dataset.  The **nltk** library stands for the **Natural Language Toolkit**, which is a widely used Python library for working with human language data, particularly in natural language processing (NLP) tasks. \"**Stopwords**\" are common words in a language (e.g., \"the\", \"and\", \"is\") that are often filtered out or removed from text during text preprocessing for NLP tasks. These words are typically considered to be of low significance for many NLP applications because they occur frequently in the language and do not contribute much to the meaning of the text."
   ]
  },
  {
   "cell_type": "code",
   "execution_count": 8,
   "id": "18adebf1",
   "metadata": {},
   "outputs": [
    {
     "name": "stderr",
     "output_type": "stream",
     "text": [
      "[nltk_data] Downloading package stopwords to\n",
      "[nltk_data]     C:\\Users\\User\\AppData\\Roaming\\nltk_data...\n",
      "[nltk_data]   Package stopwords is already up-to-date!\n"
     ]
    },
    {
     "data": {
      "text/plain": [
       "True"
      ]
     },
     "execution_count": 8,
     "metadata": {},
     "output_type": "execute_result"
    }
   ],
   "source": [
    "nltk.download('stopwords')"
   ]
  },
  {
   "cell_type": "markdown",
   "id": "edd08c37",
   "metadata": {},
   "source": [
    "Then we define a function `normalize_document` and uses it to preprocess text data. The function takes a text document as input and performs several text preprocessing steps to make the text more suitable for analysis."
   ]
  },
  {
   "cell_type": "code",
   "execution_count": 9,
   "id": "dd63a0f3",
   "metadata": {},
   "outputs": [],
   "source": [
    "# This line initializes an instance of the WordPunctTokenizer from the Natural Language Toolkit (NLTK). \n",
    "# It is used for tokenizing text, meaning it splits a text document into individual words or tokens. \n",
    "# This tokenizer separates words by whitespace and also handles punctuation.\n",
    "wpt = nltk.WordPunctTokenizer()\n",
    "# This line retrieves a list of common English stopwords from the NLTK corpus.\n",
    "stop_words = nltk.corpus.stopwords.words('english')\n",
    "\n",
    "def normalize_document(doc):\n",
    "    # This line uses the re.sub function from the Python re module to remove non-alphabetical \n",
    "    # characters (i.e., special characters, numbers, and punctuation) from the text. The regular \n",
    "    # expression r'[^a-zA-Z\\s]' matches anything that is not a letter (a-z or A-Z) or whitespace (\\s). \n",
    "    # It effectively strips out non-alphabetic characters. The re.I|re.A flags make the regular \n",
    "    # expression case-insensitive and handle text with accented characters.\n",
    "    doc = re.sub(r'[^a-zA-Z\\s]', '', doc, re.I|re.A)\n",
    "    # This line converts all the text to lowercase. This is a common text preprocessing step because \n",
    "    # it helps ensure consistency and reduces the vocabulary size.\n",
    "    doc = doc.lower()\n",
    "    # We remove any leading or trailing whitespace from the document.\n",
    "    doc = doc.strip()\n",
    "    # This line uses the WordPunctTokenizer (wpt) to tokenize the document. It splits the text \n",
    "    # into a list of individual words or tokens.\n",
    "    tokens = wpt.tokenize(doc)\n",
    "    # This line filters out stopwords from the tokenized document. It creates a list of tokens \n",
    "    # (filtered_tokens) that exclude any stopwords found in the stop_words list.\n",
    "    filtered_tokens = [token for token in tokens if token not in stop_words]\n",
    "    # Finally, this line joins the filtered tokens back together into a single string with spaces \n",
    "    # in between. This reconstructed document is now free from non-alphabetical characters, in \n",
    "    # lowercase, and with stopwords removed.\n",
    "    doc = ' '.join(filtered_tokens)\n",
    "    return doc\n",
    "\n",
    "# This line wraps the normalize_document function using NumPy's np.vectorize. \n",
    "# This makes the function work with NumPy arrays or Pandas DataFrames, allowing \n",
    "# you to apply it efficiently to multiple documents in a vectorized manner.\n",
    "normalize_corpus = np.vectorize(normalize_document)"
   ]
  },
  {
   "cell_type": "markdown",
   "id": "c0614c70",
   "metadata": {},
   "source": [
    "**Regular Expression Flags**\n",
    "\n",
    "**re.I - \n",
    "re.IGNORECASE**\n",
    "\n",
    "Perform case-insensitive matching; expressions like [A-Z] will also match lowercase letters. Full Unicode matching (such as Ü matching ü) also works unless the re.ASCII flag is used to disable non-ASCII matches. The current locale does not change the effect of this flag unless the re.LOCALE flag is also used. Corresponds to the inline flag (?i).\n",
    "\n",
    "**re.A - \n",
    "re.ASCII**\n",
    "\n",
    "Make \\\\w, \\\\W, \\\\b, \\\\B, \\\\d, \\\\D, \\\\s and \\\\S perform ASCII-only matching instead of full Unicode matching. This is only meaningful for Unicode patterns, and is ignored for byte patterns. Corresponds to the inline flag (?a)."
   ]
  },
  {
   "cell_type": "code",
   "execution_count": 10,
   "id": "963c9d14",
   "metadata": {},
   "outputs": [
    {
     "data": {
      "text/plain": [
       "array(['sky blue beautiful', 'love blue beautiful sky',\n",
       "       'quick brown fox jumps lazy dog',\n",
       "       'kings breakfast sausages ham bacon eggs toast beans',\n",
       "       'love green eggs ham sausages bacon',\n",
       "       'brown fox quick blue dog lazy', 'sky blue sky beautiful today',\n",
       "       'dog lazy brown fox quick'], dtype='<U51')"
      ]
     },
     "execution_count": 10,
     "metadata": {},
     "output_type": "execute_result"
    }
   ],
   "source": [
    "norm_corpus = normalize_corpus(corpus)\n",
    "norm_corpus"
   ]
  },
  {
   "cell_type": "markdown",
   "id": "890dd823",
   "metadata": {},
   "source": [
    "### Frequency Vectors\n",
    "\n",
    "The simplest vector encoding model is to simply fill in the vector with the frequency of each word as it appears in the document;\n",
    "In this encoding scheme each document is represented as the multiset of the tokens that compose it and the value for each word position in the vectr is its count;\n",
    "This representation can either be a straight count encoding or a normalized encoding where each word is weighted by the total number of words in the document."
   ]
  },
  {
   "cell_type": "markdown",
   "id": "4092ad55",
   "metadata": {},
   "source": [
    "In **Scikit-Learn** The `CountVectorizer` transformer from the `sklearn.feature_extraction` model has its own internal tokenization and normalization methods. The fit method of the vectorizer expects an iterable or list of strings or file objects, and creates a dictionary of the vocabulary on the corpus. When transform is called, each individual document is transformed into a sparse array whose index tuple is the row (the document ID) and the token ID from the dictionary, and whose value is the count. \n",
    "\n",
    "The following code uses the `CountVectorizer` from the `sklearn.feature_extraction.text` module in `scikit-learn` to convert a collection of text documents into a \"bag of words\" representation. This representation quantifies the frequency of each word in the text data and represents it as a matrix."
   ]
  },
  {
   "cell_type": "code",
   "execution_count": 16,
   "id": "29e38c50",
   "metadata": {},
   "outputs": [
    {
     "data": {
      "text/plain": [
       "<8x20 sparse matrix of type '<class 'numpy.int64'>'\n",
       "\twith 42 stored elements in Compressed Sparse Row format>"
      ]
     },
     "execution_count": 16,
     "metadata": {},
     "output_type": "execute_result"
    }
   ],
   "source": [
    "# import the CountVectorizer class from scikit-learn. This class is used for text vectorization.\n",
    "from sklearn.feature_extraction.text import CountVectorizer\n",
    "# Creating a CountVectorizer Object: The min_df and max_df parameters control the inclusion of words in the vocabulary.\n",
    "# - min_df: It specifies the minimum document frequency a word must have to be included in the vocabulary. \n",
    "#           A value of 0 means that no word is excluded based on its frequency.\n",
    "# - max_df: It specifies the maximum document frequency a word can have to be included in the vocabulary. \n",
    "#           A value of 1 means that all words are included, regardless of their frequency.\n",
    "cv = CountVectorizer(min_df=0., max_df=1.)\n",
    "#  This step converts the text documents into a matrix where rows represent documents, and columns represent \n",
    "# individual words (or tokens) from the entire corpus. The values in the matrix represent the frequency of \n",
    "# each word in each document.\n",
    "cv_matrix = cv.fit_transform(norm_corpus)\n",
    "cv_matrix"
   ]
  },
  {
   "cell_type": "code",
   "execution_count": 17,
   "id": "baccd31d",
   "metadata": {},
   "outputs": [
    {
     "data": {
      "text/plain": [
       "array([[0, 0, 1, 1, 0, 0, 0, 0, 0, 0, 0, 0, 0, 0, 0, 0, 0, 1, 0, 0],\n",
       "       [0, 0, 1, 1, 0, 0, 0, 0, 0, 0, 0, 0, 0, 0, 1, 0, 0, 1, 0, 0],\n",
       "       [0, 0, 0, 0, 0, 1, 1, 0, 1, 0, 0, 1, 0, 1, 0, 1, 0, 0, 0, 0],\n",
       "       [1, 1, 0, 0, 1, 0, 0, 1, 0, 0, 1, 0, 1, 0, 0, 0, 1, 0, 1, 0],\n",
       "       [1, 0, 0, 0, 0, 0, 0, 1, 0, 1, 1, 0, 0, 0, 1, 0, 1, 0, 0, 0],\n",
       "       [0, 0, 0, 1, 0, 1, 1, 0, 1, 0, 0, 0, 0, 1, 0, 1, 0, 0, 0, 0],\n",
       "       [0, 0, 1, 1, 0, 0, 0, 0, 0, 0, 0, 0, 0, 0, 0, 0, 0, 2, 0, 1],\n",
       "       [0, 0, 0, 0, 0, 1, 1, 0, 1, 0, 0, 0, 0, 1, 0, 1, 0, 0, 0, 0]],\n",
       "      dtype=int64)"
      ]
     },
     "execution_count": 17,
     "metadata": {},
     "output_type": "execute_result"
    }
   ],
   "source": [
    "# cv_matrix is a sparse matrix (a matrix in which most of the elements are zero) that contains the \"bag of words\" \n",
    "# representation of the text documents. Each row corresponds to a document, and each column corresponds to a word. \n",
    "# The values in the matrix represent the word frequencies.\n",
    "cv_matrix = cv_matrix.toarray()\n",
    "cv_matrix"
   ]
  },
  {
   "cell_type": "markdown",
   "id": "8eb81016",
   "metadata": {},
   "source": [
    "By displaying the document feature vectors in tabular format, it becomes easier to analyze and work with the bag of words representation. The following code retrieve the vocabulary and display the document feature vectors in the form of a Pandas DataFrame. \n",
    "\n",
    "The resulting Pandas DataFrame will have the following structure:\n",
    "\n",
    "- *Rows* represent the individual documents in the corpus.\n",
    "- *Columns* represent each unique word from the vocabulary.\n",
    "\n",
    "The values in the DataFrame represent the word frequencies (i.e., how many times each word appears in each document)."
   ]
  },
  {
   "cell_type": "code",
   "execution_count": 20,
   "id": "a70d2ee0",
   "metadata": {},
   "outputs": [
    {
     "data": {
      "text/html": [
       "<div>\n",
       "<style scoped>\n",
       "    .dataframe tbody tr th:only-of-type {\n",
       "        vertical-align: middle;\n",
       "    }\n",
       "\n",
       "    .dataframe tbody tr th {\n",
       "        vertical-align: top;\n",
       "    }\n",
       "\n",
       "    .dataframe thead th {\n",
       "        text-align: right;\n",
       "    }\n",
       "</style>\n",
       "<table border=\"1\" class=\"dataframe\">\n",
       "  <thead>\n",
       "    <tr style=\"text-align: right;\">\n",
       "      <th></th>\n",
       "      <th>bacon</th>\n",
       "      <th>beans</th>\n",
       "      <th>beautiful</th>\n",
       "      <th>blue</th>\n",
       "      <th>breakfast</th>\n",
       "      <th>brown</th>\n",
       "      <th>dog</th>\n",
       "      <th>eggs</th>\n",
       "      <th>fox</th>\n",
       "      <th>green</th>\n",
       "      <th>ham</th>\n",
       "      <th>jumps</th>\n",
       "      <th>kings</th>\n",
       "      <th>lazy</th>\n",
       "      <th>love</th>\n",
       "      <th>quick</th>\n",
       "      <th>sausages</th>\n",
       "      <th>sky</th>\n",
       "      <th>toast</th>\n",
       "      <th>today</th>\n",
       "    </tr>\n",
       "  </thead>\n",
       "  <tbody>\n",
       "    <tr>\n",
       "      <th>0</th>\n",
       "      <td>0</td>\n",
       "      <td>0</td>\n",
       "      <td>1</td>\n",
       "      <td>1</td>\n",
       "      <td>0</td>\n",
       "      <td>0</td>\n",
       "      <td>0</td>\n",
       "      <td>0</td>\n",
       "      <td>0</td>\n",
       "      <td>0</td>\n",
       "      <td>0</td>\n",
       "      <td>0</td>\n",
       "      <td>0</td>\n",
       "      <td>0</td>\n",
       "      <td>0</td>\n",
       "      <td>0</td>\n",
       "      <td>0</td>\n",
       "      <td>1</td>\n",
       "      <td>0</td>\n",
       "      <td>0</td>\n",
       "    </tr>\n",
       "    <tr>\n",
       "      <th>1</th>\n",
       "      <td>0</td>\n",
       "      <td>0</td>\n",
       "      <td>1</td>\n",
       "      <td>1</td>\n",
       "      <td>0</td>\n",
       "      <td>0</td>\n",
       "      <td>0</td>\n",
       "      <td>0</td>\n",
       "      <td>0</td>\n",
       "      <td>0</td>\n",
       "      <td>0</td>\n",
       "      <td>0</td>\n",
       "      <td>0</td>\n",
       "      <td>0</td>\n",
       "      <td>1</td>\n",
       "      <td>0</td>\n",
       "      <td>0</td>\n",
       "      <td>1</td>\n",
       "      <td>0</td>\n",
       "      <td>0</td>\n",
       "    </tr>\n",
       "    <tr>\n",
       "      <th>2</th>\n",
       "      <td>0</td>\n",
       "      <td>0</td>\n",
       "      <td>0</td>\n",
       "      <td>0</td>\n",
       "      <td>0</td>\n",
       "      <td>1</td>\n",
       "      <td>1</td>\n",
       "      <td>0</td>\n",
       "      <td>1</td>\n",
       "      <td>0</td>\n",
       "      <td>0</td>\n",
       "      <td>1</td>\n",
       "      <td>0</td>\n",
       "      <td>1</td>\n",
       "      <td>0</td>\n",
       "      <td>1</td>\n",
       "      <td>0</td>\n",
       "      <td>0</td>\n",
       "      <td>0</td>\n",
       "      <td>0</td>\n",
       "    </tr>\n",
       "    <tr>\n",
       "      <th>3</th>\n",
       "      <td>1</td>\n",
       "      <td>1</td>\n",
       "      <td>0</td>\n",
       "      <td>0</td>\n",
       "      <td>1</td>\n",
       "      <td>0</td>\n",
       "      <td>0</td>\n",
       "      <td>1</td>\n",
       "      <td>0</td>\n",
       "      <td>0</td>\n",
       "      <td>1</td>\n",
       "      <td>0</td>\n",
       "      <td>1</td>\n",
       "      <td>0</td>\n",
       "      <td>0</td>\n",
       "      <td>0</td>\n",
       "      <td>1</td>\n",
       "      <td>0</td>\n",
       "      <td>1</td>\n",
       "      <td>0</td>\n",
       "    </tr>\n",
       "    <tr>\n",
       "      <th>4</th>\n",
       "      <td>1</td>\n",
       "      <td>0</td>\n",
       "      <td>0</td>\n",
       "      <td>0</td>\n",
       "      <td>0</td>\n",
       "      <td>0</td>\n",
       "      <td>0</td>\n",
       "      <td>1</td>\n",
       "      <td>0</td>\n",
       "      <td>1</td>\n",
       "      <td>1</td>\n",
       "      <td>0</td>\n",
       "      <td>0</td>\n",
       "      <td>0</td>\n",
       "      <td>1</td>\n",
       "      <td>0</td>\n",
       "      <td>1</td>\n",
       "      <td>0</td>\n",
       "      <td>0</td>\n",
       "      <td>0</td>\n",
       "    </tr>\n",
       "    <tr>\n",
       "      <th>5</th>\n",
       "      <td>0</td>\n",
       "      <td>0</td>\n",
       "      <td>0</td>\n",
       "      <td>1</td>\n",
       "      <td>0</td>\n",
       "      <td>1</td>\n",
       "      <td>1</td>\n",
       "      <td>0</td>\n",
       "      <td>1</td>\n",
       "      <td>0</td>\n",
       "      <td>0</td>\n",
       "      <td>0</td>\n",
       "      <td>0</td>\n",
       "      <td>1</td>\n",
       "      <td>0</td>\n",
       "      <td>1</td>\n",
       "      <td>0</td>\n",
       "      <td>0</td>\n",
       "      <td>0</td>\n",
       "      <td>0</td>\n",
       "    </tr>\n",
       "    <tr>\n",
       "      <th>6</th>\n",
       "      <td>0</td>\n",
       "      <td>0</td>\n",
       "      <td>1</td>\n",
       "      <td>1</td>\n",
       "      <td>0</td>\n",
       "      <td>0</td>\n",
       "      <td>0</td>\n",
       "      <td>0</td>\n",
       "      <td>0</td>\n",
       "      <td>0</td>\n",
       "      <td>0</td>\n",
       "      <td>0</td>\n",
       "      <td>0</td>\n",
       "      <td>0</td>\n",
       "      <td>0</td>\n",
       "      <td>0</td>\n",
       "      <td>0</td>\n",
       "      <td>2</td>\n",
       "      <td>0</td>\n",
       "      <td>1</td>\n",
       "    </tr>\n",
       "    <tr>\n",
       "      <th>7</th>\n",
       "      <td>0</td>\n",
       "      <td>0</td>\n",
       "      <td>0</td>\n",
       "      <td>0</td>\n",
       "      <td>0</td>\n",
       "      <td>1</td>\n",
       "      <td>1</td>\n",
       "      <td>0</td>\n",
       "      <td>1</td>\n",
       "      <td>0</td>\n",
       "      <td>0</td>\n",
       "      <td>0</td>\n",
       "      <td>0</td>\n",
       "      <td>1</td>\n",
       "      <td>0</td>\n",
       "      <td>1</td>\n",
       "      <td>0</td>\n",
       "      <td>0</td>\n",
       "      <td>0</td>\n",
       "      <td>0</td>\n",
       "    </tr>\n",
       "  </tbody>\n",
       "</table>\n",
       "</div>"
      ],
      "text/plain": [
       "   bacon  beans  beautiful  blue  breakfast  brown  dog  eggs  fox  green   \n",
       "0      0      0          1     1          0      0    0     0    0      0  \\\n",
       "1      0      0          1     1          0      0    0     0    0      0   \n",
       "2      0      0          0     0          0      1    1     0    1      0   \n",
       "3      1      1          0     0          1      0    0     1    0      0   \n",
       "4      1      0          0     0          0      0    0     1    0      1   \n",
       "5      0      0          0     1          0      1    1     0    1      0   \n",
       "6      0      0          1     1          0      0    0     0    0      0   \n",
       "7      0      0          0     0          0      1    1     0    1      0   \n",
       "\n",
       "   ham  jumps  kings  lazy  love  quick  sausages  sky  toast  today  \n",
       "0    0      0      0     0     0      0         0    1      0      0  \n",
       "1    0      0      0     0     1      0         0    1      0      0  \n",
       "2    0      1      0     1     0      1         0    0      0      0  \n",
       "3    1      0      1     0     0      0         1    0      1      0  \n",
       "4    1      0      0     0     1      0         1    0      0      0  \n",
       "5    0      0      0     1     0      1         0    0      0      0  \n",
       "6    0      0      0     0     0      0         0    2      0      1  \n",
       "7    0      0      0     1     0      1         0    0      0      0  "
      ]
     },
     "execution_count": 20,
     "metadata": {},
     "output_type": "execute_result"
    }
   ],
   "source": [
    "# This line retrieves the vocabulary of unique words from the CountVectorizer object cv. The vocabulary consists \n",
    "# of all the distinct words (or tokens) that were present in the text documents after preprocessing and tokenization.\n",
    "# cv.get_feature_names_out() returns a list of these unique words. Each element in the list corresponds to a word \n",
    "# found in the corpus.\n",
    "vocab = cv.get_feature_names_out()\n",
    "# This line creates a Pandas DataFrame to display the document feature vectors. cv_matrix is the sparse matrix \n",
    "# that represents the \"bag of words\" encoding of the text documents. Each row in this matrix corresponds to \n",
    "# a document, and each column corresponds to a unique word from the vocabulary. columns=vocab specifies the \n",
    "# column names of the DataFrame, which should be set to the words from the vocabulary.\n",
    "pd.DataFrame(cv_matrix, columns=vocab)"
   ]
  },
  {
   "cell_type": "markdown",
   "id": "3ad73797",
   "metadata": {},
   "source": [
    "\n",
    "### One-Hot Encoding\n",
    "\n",
    "Because they disregard grammar and the relative position of words in documents, frequency-based encoding methods suffer from the long tail, or Zipfian distribution, that characterizes natural language. As a result, tokens that occur very frequently are orders of magnitude more “significant” than other, less frequent ones. This can have a significant impact on some models (e.g., generalized linear models) that expect normally distributed features. \n",
    "\n",
    "A solution to this problem is **one-hot encoding**, a boolean vector encoding method that marks a particular vector index with a value of true (1) if the token exists in the document and false (0) if it does not. In other words, each element of a one-hot encoded vector reflects either the presence or absence of the token in the described text."
   ]
  },
  {
   "cell_type": "markdown",
   "id": "808b67cd",
   "metadata": {},
   "source": [
    "\n",
    "\n",
    "**TF - Term Frequency**: Just counting the number of words in each document has 1 issue: it will give more weightage to longer documents than shorter documents. To avoid this, we can use frequency i.e. #count(word) / #Total words, in each document.\n"
   ]
  },
  {
   "cell_type": "markdown",
   "id": "84d3cb15",
   "metadata": {},
   "source": [
    "### Term Frequency-Inverse Document Frequency\n",
    "\n",
    "The bag-of-words representations that we have explored so far only describe a document in a standalone fashion, not taking into account the context of the corpus. \n",
    "A better approach would be to consider the relative frequency or rareness of tokens in the document against their frequency in other documents. The central insight is that meaning is most likely encoded in the more rare terms from a document.\n",
    "\n",
    "TF-IDF, term frequency-inverse document frequency, encoding normalizes the frequency of tokens in a document with respect to the rest of the corpus. \n",
    "This encoding approach accentuates terms that are very relevant to a specific instance, as shown in Figure, where the token studio has a higher relevance to this document since it only appears there.\n",
    "\n",
    "The inverse document frequency is a measure of how much information the word provides, that is, whether the term is common or rare across all documents. \n",
    "It is the logarithmically scaled inverse fraction of the documents that contain the word, obtained by dividing the total number of documents by the number of documents containing the term, and then taking the logarithm of that quotient: \n",
    "\n",
    "\\begin{equation}idf(t,D) = \\log \\frac{N}{\\vert \\{  d \\in D: t \\in d\\}\\vert} \\end{equation}  \n",
    "\n",
    "where the numerator ($N$) is the total number of documents in the corpus and the denominator is the number of documents where the term $t$ appears.\n",
    "\n",
    "Then tf-idf is calculated as: \n",
    "\n",
    "\\begin{equation} tfidf(t,d,D) = tf(t,d) \\cdot idf(t,D)\\end{equation}\n",
    "\n",
    "A high weight in tf-idf is reached by a high term frequency (in the given document) and a low document frequency of the term in the whole collection of documents; the weights hence tend to filter out common terms.  Since the ratio inside the idf's log function is always greater than or equal to 1, the value of idf (and tf-idf) is greater than or equal to 0. As a term appears in more documents, the ratio inside the logarithm approaches 1, bringing the idf and tf-idf closer to 0."
   ]
  },
  {
   "cell_type": "markdown",
   "id": "2d1a3b0b",
   "metadata": {},
   "source": [
    "![image.png](./img/tf-idf-0.png)"
   ]
  },
  {
   "cell_type": "markdown",
   "id": "344bcc72",
   "metadata": {},
   "source": [
    "A simple example might serve to explain the structure of the TDM more clearly. Assume we have a simple corpus consisting of two documents, Doc1 and Doc2, with the following content:\n",
    "\n",
    "Doc1 = \"I like databases\"\n",
    "Doc2 = \"I dislike databases\",\n",
    "\n",
    "then the document-term matrix would be:"
   ]
  },
  {
   "cell_type": "markdown",
   "id": "f668d879",
   "metadata": {},
   "source": [
    "![image.png](./img/tf-idf-1.png)"
   ]
  },
  {
   "cell_type": "markdown",
   "id": "4ccfa1ff",
   "metadata": {},
   "source": [
    "Clearly there is nothing special about rows and columns – we could just as easily transpose them. If we did so, we’d get a term document matrix (TDM) in which the terms are rows and documents columns. One can work with either a DTM or TDM. Using the raw count of a term in a document, i.e. the number of times that term t occurs in document d, is the simplest choice to measure the term frequency $tf(t,d)$. If we denote the raw count by $f_{t,d}$, then the simplest $tf$ scheme is $tf(t,d) = f_{t,d}$. Other possibilities include\n",
    "\n",
    "- Boolean \"frequencies\": $tf(t,d) = 1$ if $t$ occurs in $d$ and $0$ otherwise;\n",
    "- Term frequency adjusted for document length : $f_{t,d} \\big/ \\text{(number of words in d)}$;\n",
    "- Logarithmically scaled frequency: $tf(t,d) = \\log (1 + f_{t,d})$;\n",
    "- Augmented frequency, to prevent a bias towards longer documents, e.g. raw frequency divided by the raw frequency of the most occurring term in the document."
   ]
  },
  {
   "cell_type": "markdown",
   "id": "8f1cfa05",
   "metadata": {},
   "source": [
    "![image.png](./img/3_1_text_vectorization_pic_6.png)"
   ]
  },
  {
   "cell_type": "markdown",
   "id": "d8ef75c7",
   "metadata": {},
   "source": [
    "Scikit-Learn provides a transformer called the `TfidfVectorizer` in the module called **feature_extraction.text** for vectorizing documents with TF–IDF scores. Under the hood, the `TfidfVectorizer` uses the `CountVectorizer` estimator we used to produce the bag-of-words encoding to count occurrences of tokens, followed by a `TfidfTransformer`, which normalizes these occurrence counts by the inverse document frequency. \n",
    "\n",
    "The input for a `TfidfVectorizer` is expected to be a sequence of filenames, file-like objects, or strings that contain a collection of raw documents, similar to that of the `CountVectorizer`. As a result, a default tokenization and preprocessing method is applied unless other functions are specified. The vectorizer returns a sparse matrix representation in the form of `((doc, term), tfidf)` where each key is a document and term pair and the value is the TF–IDF score."
   ]
  },
  {
   "cell_type": "code",
   "execution_count": 21,
   "id": "61a5b843",
   "metadata": {},
   "outputs": [
    {
     "data": {
      "text/html": [
       "<div>\n",
       "<style scoped>\n",
       "    .dataframe tbody tr th:only-of-type {\n",
       "        vertical-align: middle;\n",
       "    }\n",
       "\n",
       "    .dataframe tbody tr th {\n",
       "        vertical-align: top;\n",
       "    }\n",
       "\n",
       "    .dataframe thead th {\n",
       "        text-align: right;\n",
       "    }\n",
       "</style>\n",
       "<table border=\"1\" class=\"dataframe\">\n",
       "  <thead>\n",
       "    <tr style=\"text-align: right;\">\n",
       "      <th></th>\n",
       "      <th>bacon</th>\n",
       "      <th>beans</th>\n",
       "      <th>beautiful</th>\n",
       "      <th>blue</th>\n",
       "      <th>breakfast</th>\n",
       "      <th>brown</th>\n",
       "      <th>dog</th>\n",
       "      <th>eggs</th>\n",
       "      <th>fox</th>\n",
       "      <th>green</th>\n",
       "      <th>ham</th>\n",
       "      <th>jumps</th>\n",
       "      <th>kings</th>\n",
       "      <th>lazy</th>\n",
       "      <th>love</th>\n",
       "      <th>quick</th>\n",
       "      <th>sausages</th>\n",
       "      <th>sky</th>\n",
       "      <th>toast</th>\n",
       "      <th>today</th>\n",
       "    </tr>\n",
       "  </thead>\n",
       "  <tbody>\n",
       "    <tr>\n",
       "      <th>0</th>\n",
       "      <td>0.00</td>\n",
       "      <td>0.00</td>\n",
       "      <td>0.60</td>\n",
       "      <td>0.53</td>\n",
       "      <td>0.00</td>\n",
       "      <td>0.00</td>\n",
       "      <td>0.00</td>\n",
       "      <td>0.00</td>\n",
       "      <td>0.00</td>\n",
       "      <td>0.00</td>\n",
       "      <td>0.00</td>\n",
       "      <td>0.00</td>\n",
       "      <td>0.00</td>\n",
       "      <td>0.00</td>\n",
       "      <td>0.00</td>\n",
       "      <td>0.00</td>\n",
       "      <td>0.00</td>\n",
       "      <td>0.60</td>\n",
       "      <td>0.00</td>\n",
       "      <td>0.0</td>\n",
       "    </tr>\n",
       "    <tr>\n",
       "      <th>1</th>\n",
       "      <td>0.00</td>\n",
       "      <td>0.00</td>\n",
       "      <td>0.49</td>\n",
       "      <td>0.43</td>\n",
       "      <td>0.00</td>\n",
       "      <td>0.00</td>\n",
       "      <td>0.00</td>\n",
       "      <td>0.00</td>\n",
       "      <td>0.00</td>\n",
       "      <td>0.00</td>\n",
       "      <td>0.00</td>\n",
       "      <td>0.00</td>\n",
       "      <td>0.00</td>\n",
       "      <td>0.00</td>\n",
       "      <td>0.57</td>\n",
       "      <td>0.00</td>\n",
       "      <td>0.00</td>\n",
       "      <td>0.49</td>\n",
       "      <td>0.00</td>\n",
       "      <td>0.0</td>\n",
       "    </tr>\n",
       "    <tr>\n",
       "      <th>2</th>\n",
       "      <td>0.00</td>\n",
       "      <td>0.00</td>\n",
       "      <td>0.00</td>\n",
       "      <td>0.00</td>\n",
       "      <td>0.00</td>\n",
       "      <td>0.38</td>\n",
       "      <td>0.38</td>\n",
       "      <td>0.00</td>\n",
       "      <td>0.38</td>\n",
       "      <td>0.00</td>\n",
       "      <td>0.00</td>\n",
       "      <td>0.53</td>\n",
       "      <td>0.00</td>\n",
       "      <td>0.38</td>\n",
       "      <td>0.00</td>\n",
       "      <td>0.38</td>\n",
       "      <td>0.00</td>\n",
       "      <td>0.00</td>\n",
       "      <td>0.00</td>\n",
       "      <td>0.0</td>\n",
       "    </tr>\n",
       "    <tr>\n",
       "      <th>3</th>\n",
       "      <td>0.32</td>\n",
       "      <td>0.38</td>\n",
       "      <td>0.00</td>\n",
       "      <td>0.00</td>\n",
       "      <td>0.38</td>\n",
       "      <td>0.00</td>\n",
       "      <td>0.00</td>\n",
       "      <td>0.32</td>\n",
       "      <td>0.00</td>\n",
       "      <td>0.00</td>\n",
       "      <td>0.32</td>\n",
       "      <td>0.00</td>\n",
       "      <td>0.38</td>\n",
       "      <td>0.00</td>\n",
       "      <td>0.00</td>\n",
       "      <td>0.00</td>\n",
       "      <td>0.32</td>\n",
       "      <td>0.00</td>\n",
       "      <td>0.38</td>\n",
       "      <td>0.0</td>\n",
       "    </tr>\n",
       "    <tr>\n",
       "      <th>4</th>\n",
       "      <td>0.39</td>\n",
       "      <td>0.00</td>\n",
       "      <td>0.00</td>\n",
       "      <td>0.00</td>\n",
       "      <td>0.00</td>\n",
       "      <td>0.00</td>\n",
       "      <td>0.00</td>\n",
       "      <td>0.39</td>\n",
       "      <td>0.00</td>\n",
       "      <td>0.47</td>\n",
       "      <td>0.39</td>\n",
       "      <td>0.00</td>\n",
       "      <td>0.00</td>\n",
       "      <td>0.00</td>\n",
       "      <td>0.39</td>\n",
       "      <td>0.00</td>\n",
       "      <td>0.39</td>\n",
       "      <td>0.00</td>\n",
       "      <td>0.00</td>\n",
       "      <td>0.0</td>\n",
       "    </tr>\n",
       "    <tr>\n",
       "      <th>5</th>\n",
       "      <td>0.00</td>\n",
       "      <td>0.00</td>\n",
       "      <td>0.00</td>\n",
       "      <td>0.37</td>\n",
       "      <td>0.00</td>\n",
       "      <td>0.42</td>\n",
       "      <td>0.42</td>\n",
       "      <td>0.00</td>\n",
       "      <td>0.42</td>\n",
       "      <td>0.00</td>\n",
       "      <td>0.00</td>\n",
       "      <td>0.00</td>\n",
       "      <td>0.00</td>\n",
       "      <td>0.42</td>\n",
       "      <td>0.00</td>\n",
       "      <td>0.42</td>\n",
       "      <td>0.00</td>\n",
       "      <td>0.00</td>\n",
       "      <td>0.00</td>\n",
       "      <td>0.0</td>\n",
       "    </tr>\n",
       "    <tr>\n",
       "      <th>6</th>\n",
       "      <td>0.00</td>\n",
       "      <td>0.00</td>\n",
       "      <td>0.36</td>\n",
       "      <td>0.32</td>\n",
       "      <td>0.00</td>\n",
       "      <td>0.00</td>\n",
       "      <td>0.00</td>\n",
       "      <td>0.00</td>\n",
       "      <td>0.00</td>\n",
       "      <td>0.00</td>\n",
       "      <td>0.00</td>\n",
       "      <td>0.00</td>\n",
       "      <td>0.00</td>\n",
       "      <td>0.00</td>\n",
       "      <td>0.00</td>\n",
       "      <td>0.00</td>\n",
       "      <td>0.00</td>\n",
       "      <td>0.72</td>\n",
       "      <td>0.00</td>\n",
       "      <td>0.5</td>\n",
       "    </tr>\n",
       "    <tr>\n",
       "      <th>7</th>\n",
       "      <td>0.00</td>\n",
       "      <td>0.00</td>\n",
       "      <td>0.00</td>\n",
       "      <td>0.00</td>\n",
       "      <td>0.00</td>\n",
       "      <td>0.45</td>\n",
       "      <td>0.45</td>\n",
       "      <td>0.00</td>\n",
       "      <td>0.45</td>\n",
       "      <td>0.00</td>\n",
       "      <td>0.00</td>\n",
       "      <td>0.00</td>\n",
       "      <td>0.00</td>\n",
       "      <td>0.45</td>\n",
       "      <td>0.00</td>\n",
       "      <td>0.45</td>\n",
       "      <td>0.00</td>\n",
       "      <td>0.00</td>\n",
       "      <td>0.00</td>\n",
       "      <td>0.0</td>\n",
       "    </tr>\n",
       "  </tbody>\n",
       "</table>\n",
       "</div>"
      ],
      "text/plain": [
       "   bacon  beans  beautiful  blue  breakfast  brown   dog  eggs   fox  green   \n",
       "0   0.00   0.00       0.60  0.53       0.00   0.00  0.00  0.00  0.00   0.00  \\\n",
       "1   0.00   0.00       0.49  0.43       0.00   0.00  0.00  0.00  0.00   0.00   \n",
       "2   0.00   0.00       0.00  0.00       0.00   0.38  0.38  0.00  0.38   0.00   \n",
       "3   0.32   0.38       0.00  0.00       0.38   0.00  0.00  0.32  0.00   0.00   \n",
       "4   0.39   0.00       0.00  0.00       0.00   0.00  0.00  0.39  0.00   0.47   \n",
       "5   0.00   0.00       0.00  0.37       0.00   0.42  0.42  0.00  0.42   0.00   \n",
       "6   0.00   0.00       0.36  0.32       0.00   0.00  0.00  0.00  0.00   0.00   \n",
       "7   0.00   0.00       0.00  0.00       0.00   0.45  0.45  0.00  0.45   0.00   \n",
       "\n",
       "    ham  jumps  kings  lazy  love  quick  sausages   sky  toast  today  \n",
       "0  0.00   0.00   0.00  0.00  0.00   0.00      0.00  0.60   0.00    0.0  \n",
       "1  0.00   0.00   0.00  0.00  0.57   0.00      0.00  0.49   0.00    0.0  \n",
       "2  0.00   0.53   0.00  0.38  0.00   0.38      0.00  0.00   0.00    0.0  \n",
       "3  0.32   0.00   0.38  0.00  0.00   0.00      0.32  0.00   0.38    0.0  \n",
       "4  0.39   0.00   0.00  0.00  0.39   0.00      0.39  0.00   0.00    0.0  \n",
       "5  0.00   0.00   0.00  0.42  0.00   0.42      0.00  0.00   0.00    0.0  \n",
       "6  0.00   0.00   0.00  0.00  0.00   0.00      0.00  0.72   0.00    0.5  \n",
       "7  0.00   0.00   0.00  0.45  0.00   0.45      0.00  0.00   0.00    0.0  "
      ]
     },
     "execution_count": 21,
     "metadata": {},
     "output_type": "execute_result"
    }
   ],
   "source": [
    "from sklearn.feature_extraction.text import TfidfVectorizer\n",
    "\n",
    "# initializes a TfidfVectorizer object.min_df and max_df control the inclusion of terms in the vocabulary. \n",
    "# Here, both are set to include all terms. norm='l2' specifies that the TF-IDF vectors should be normalized \n",
    "# using the L2 norm (Euclidean norm, sum of squares of vector elements is 1). use_idf=True indicates that \n",
    "# inverse document frequency (IDF) weighting should be applied. smooth_idf=True adds 1 to the numerator \n",
    "# and denominator of the IDF calculation to avoid \n",
    "# division by zero.\n",
    "tv = TfidfVectorizer(min_df=0., max_df=1., norm='l2',\n",
    "                     use_idf=True, smooth_idf=True)\n",
    "tv_matrix = tv.fit_transform(norm_corpus)\n",
    "tv_matrix = tv_matrix.toarray()\n",
    "\n",
    "vocab = tv.get_feature_names_out()\n",
    "pd.DataFrame(np.round(tv_matrix, 2), columns=vocab)"
   ]
  },
  {
   "cell_type": "markdown",
   "id": "1f1639de",
   "metadata": {},
   "source": [
    "We can see how a new text, not present in the fit sample, is represented in vector form."
   ]
  },
  {
   "cell_type": "code",
   "execution_count": 23,
   "id": "73276e97",
   "metadata": {},
   "outputs": [
    {
     "data": {
      "text/html": [
       "<div>\n",
       "<style scoped>\n",
       "    .dataframe tbody tr th:only-of-type {\n",
       "        vertical-align: middle;\n",
       "    }\n",
       "\n",
       "    .dataframe tbody tr th {\n",
       "        vertical-align: top;\n",
       "    }\n",
       "\n",
       "    .dataframe thead th {\n",
       "        text-align: right;\n",
       "    }\n",
       "</style>\n",
       "<table border=\"1\" class=\"dataframe\">\n",
       "  <thead>\n",
       "    <tr style=\"text-align: right;\">\n",
       "      <th></th>\n",
       "      <th>bacon</th>\n",
       "      <th>beans</th>\n",
       "      <th>beautiful</th>\n",
       "      <th>blue</th>\n",
       "      <th>breakfast</th>\n",
       "      <th>brown</th>\n",
       "      <th>dog</th>\n",
       "      <th>eggs</th>\n",
       "      <th>fox</th>\n",
       "      <th>green</th>\n",
       "      <th>ham</th>\n",
       "      <th>jumps</th>\n",
       "      <th>kings</th>\n",
       "      <th>lazy</th>\n",
       "      <th>love</th>\n",
       "      <th>quick</th>\n",
       "      <th>sausages</th>\n",
       "      <th>sky</th>\n",
       "      <th>toast</th>\n",
       "      <th>today</th>\n",
       "    </tr>\n",
       "  </thead>\n",
       "  <tbody>\n",
       "    <tr>\n",
       "      <th>0</th>\n",
       "      <td>0.0</td>\n",
       "      <td>0.0</td>\n",
       "      <td>0.0</td>\n",
       "      <td>0.0</td>\n",
       "      <td>0.0</td>\n",
       "      <td>0.0</td>\n",
       "      <td>0.0</td>\n",
       "      <td>0.0</td>\n",
       "      <td>0.0</td>\n",
       "      <td>0.63</td>\n",
       "      <td>0.0</td>\n",
       "      <td>0.0</td>\n",
       "      <td>0.0</td>\n",
       "      <td>0.0</td>\n",
       "      <td>0.0</td>\n",
       "      <td>0.0</td>\n",
       "      <td>0.0</td>\n",
       "      <td>0.46</td>\n",
       "      <td>0.0</td>\n",
       "      <td>0.63</td>\n",
       "    </tr>\n",
       "  </tbody>\n",
       "</table>\n",
       "</div>"
      ],
      "text/plain": [
       "   bacon  beans  beautiful  blue  breakfast  brown  dog  eggs  fox  green   \n",
       "0    0.0    0.0        0.0   0.0        0.0    0.0  0.0   0.0  0.0   0.63  \\\n",
       "\n",
       "   ham  jumps  kings  lazy  love  quick  sausages   sky  toast  today  \n",
       "0  0.0    0.0    0.0   0.0   0.0    0.0       0.0  0.46    0.0   0.63  "
      ]
     },
     "execution_count": 23,
     "metadata": {},
     "output_type": "execute_result"
    }
   ],
   "source": [
    "new_doc = 'the sky is green today'\n",
    "\n",
    "pd.DataFrame(np.round(tv.transform([new_doc]).toarray(), 2), \n",
    "             columns=tv.get_feature_names_out())"
   ]
  },
  {
   "cell_type": "markdown",
   "id": "58868fea",
   "metadata": {},
   "source": [
    "## Document Similarity"
   ]
  },
  {
   "cell_type": "markdown",
   "id": "2de4e2a5",
   "metadata": {},
   "source": [
    "When you have vectorized your text, we can try to define a distance metric such that documents that are closer together in feature space are more similar. There are a number of different measures that can be used to determine document similarity; \n",
    "Several are illustrated in Figure. Fundamentally, each relies on our ability to imagine documents as points in space, where the relative closeness of any two documents is a measure of their similarity.\n",
    "\n",
    "We can measure vector similarity with cosine distance, using the cosine of the angle between the two vectors to assess the degree to which they share the same orientation. In effect, the more parallel any two vectors are, the more similar the documents will be (regardless of their magnitude)."
   ]
  },
  {
   "cell_type": "markdown",
   "id": "a19fad09",
   "metadata": {},
   "source": [
    "<!--\n",
    "<div>\n",
    "<img src=\"./img/3_1_text_vectorization_pic_9.png\" width=\"500\"/>\n",
    "</div>\n",
    "-->\n",
    "![pic](./img/3_1_text_vectorization_pic_9.png)\n",
    "*(image source: Bengfort B. et al. \"Text Analysis with Python\")*"
   ]
  },
  {
   "cell_type": "markdown",
   "id": "a0696c72",
   "metadata": {},
   "source": [
    "Mathematically, Cosine similarity metric measures the cosine of the angle between two n-dimensional vectors projected in a multi-dimensional space. The Cosine similarity of two documents will range from 0 to 1. If the Cosine similarity score is 1, it means two vectors have the same orientation. The value closer to 0 indicates that the two documents have less similarity.\n",
    "\n",
    "The mathematical equation of Cosine similarity between two non-zero vectors is: \n",
    "\n",
    "\\begin{equation} \\text{similarity} = \\cos(\\theta) = \\frac{\\mathbf{A} \\cdot \\mathbf{B}}{\\left\\Vert\\mathbf{A}\\right\\Vert \\,\\left\\Vert\\mathbf{B}\\right\\Vert} = \\frac{\\sum\\limits_{i=1}^n A_iB_i}{\\sum\\limits_{i=1}^n A_i^2 \\sum\\limits_{i=1}^n B_i^2} \\end{equation}\n",
    "\n",
    "Let’s see an example of how to calculate the cosine similarity between two text document. The common way to compute the Cosine similarity is to first we need to count the word occurrence in each document. To count the word occurrence in each document, we can use **CountVectorizer** or **TfidfVectorizer** functions that are provided by Scikit-Learn library.\n",
    "\n",
    "doc_1 = \"Data is the oil of the digital economy\" \n",
    "doc_2 = \"Data is a new oil\" \n",
    "\n",
    "and consider the following frequency matrix"
   ]
  },
  {
   "cell_type": "markdown",
   "id": "45755e63",
   "metadata": {},
   "source": [
    "<!--\n",
    "<img src='./img/tf-idf-2.png'>\n",
    "-->\n",
    "![image.png](./img/tf-idf-2.png)"
   ]
  },
  {
   "cell_type": "markdown",
   "id": "e6b514f5",
   "metadata": {},
   "source": [
    "We can write"
   ]
  },
  {
   "cell_type": "code",
   "execution_count": 24,
   "id": "982fc4ec",
   "metadata": {},
   "outputs": [],
   "source": [
    "doc_1 = \"Data is the oil of the digital economy\" \n",
    "doc_2 = \"Data is a new oil\" \n",
    "data = [doc_1, doc_2]"
   ]
  },
  {
   "cell_type": "code",
   "execution_count": 25,
   "id": "850c2508",
   "metadata": {},
   "outputs": [],
   "source": [
    "import pandas as pd\n",
    "from sklearn.feature_extraction.text import CountVectorizer\n",
    "\n",
    "count_vectorizer = CountVectorizer()\n",
    "vector_matrix = count_vectorizer.fit_transform(data)"
   ]
  },
  {
   "cell_type": "markdown",
   "id": "248d0818",
   "metadata": {},
   "source": [
    "Here, is the unique tokens list found in the data."
   ]
  },
  {
   "cell_type": "code",
   "execution_count": 26,
   "id": "08d99a35",
   "metadata": {},
   "outputs": [
    {
     "data": {
      "text/plain": [
       "array(['data', 'digital', 'economy', 'is', 'new', 'of', 'oil', 'the'],\n",
       "      dtype=object)"
      ]
     },
     "execution_count": 26,
     "metadata": {},
     "output_type": "execute_result"
    }
   ],
   "source": [
    "tokens = count_vectorizer.get_feature_names_out()\n",
    "tokens"
   ]
  },
  {
   "cell_type": "code",
   "execution_count": 27,
   "id": "a3c0b206",
   "metadata": {},
   "outputs": [
    {
     "data": {
      "text/plain": [
       "array([[1, 1, 1, 1, 0, 1, 1, 2],\n",
       "       [1, 0, 0, 1, 1, 0, 1, 0]], dtype=int64)"
      ]
     },
     "execution_count": 27,
     "metadata": {},
     "output_type": "execute_result"
    }
   ],
   "source": [
    "vector_matrix.toarray()"
   ]
  },
  {
   "cell_type": "code",
   "execution_count": 28,
   "id": "c08bbe8a",
   "metadata": {},
   "outputs": [
    {
     "data": {
      "text/html": [
       "<div>\n",
       "<style scoped>\n",
       "    .dataframe tbody tr th:only-of-type {\n",
       "        vertical-align: middle;\n",
       "    }\n",
       "\n",
       "    .dataframe tbody tr th {\n",
       "        vertical-align: top;\n",
       "    }\n",
       "\n",
       "    .dataframe thead th {\n",
       "        text-align: right;\n",
       "    }\n",
       "</style>\n",
       "<table border=\"1\" class=\"dataframe\">\n",
       "  <thead>\n",
       "    <tr style=\"text-align: right;\">\n",
       "      <th></th>\n",
       "      <th>data</th>\n",
       "      <th>digital</th>\n",
       "      <th>economy</th>\n",
       "      <th>is</th>\n",
       "      <th>new</th>\n",
       "      <th>of</th>\n",
       "      <th>oil</th>\n",
       "      <th>the</th>\n",
       "    </tr>\n",
       "  </thead>\n",
       "  <tbody>\n",
       "    <tr>\n",
       "      <th>doc_1</th>\n",
       "      <td>1</td>\n",
       "      <td>1</td>\n",
       "      <td>1</td>\n",
       "      <td>1</td>\n",
       "      <td>0</td>\n",
       "      <td>1</td>\n",
       "      <td>1</td>\n",
       "      <td>2</td>\n",
       "    </tr>\n",
       "    <tr>\n",
       "      <th>doc_2</th>\n",
       "      <td>1</td>\n",
       "      <td>0</td>\n",
       "      <td>0</td>\n",
       "      <td>1</td>\n",
       "      <td>1</td>\n",
       "      <td>0</td>\n",
       "      <td>1</td>\n",
       "      <td>0</td>\n",
       "    </tr>\n",
       "  </tbody>\n",
       "</table>\n",
       "</div>"
      ],
      "text/plain": [
       "       data  digital  economy  is  new  of  oil  the\n",
       "doc_1     1        1        1   1    0   1    1    2\n",
       "doc_2     1        0        0   1    1   0    1    0"
      ]
     },
     "execution_count": 28,
     "metadata": {},
     "output_type": "execute_result"
    }
   ],
   "source": [
    "def create_dataframe(matrix, tokens):\n",
    "\n",
    "    doc_names = [f'doc_{i+1}' for i, _ in enumerate(matrix)]\n",
    "    df = pd.DataFrame(data=matrix, index=doc_names, columns=tokens)\n",
    "    return(df)\n",
    "\n",
    "create_dataframe(vector_matrix.toarray(),tokens)"
   ]
  },
  {
   "cell_type": "code",
   "execution_count": 29,
   "id": "edf97f16",
   "metadata": {},
   "outputs": [
    {
     "data": {
      "text/html": [
       "<div>\n",
       "<style scoped>\n",
       "    .dataframe tbody tr th:only-of-type {\n",
       "        vertical-align: middle;\n",
       "    }\n",
       "\n",
       "    .dataframe tbody tr th {\n",
       "        vertical-align: top;\n",
       "    }\n",
       "\n",
       "    .dataframe thead th {\n",
       "        text-align: right;\n",
       "    }\n",
       "</style>\n",
       "<table border=\"1\" class=\"dataframe\">\n",
       "  <thead>\n",
       "    <tr style=\"text-align: right;\">\n",
       "      <th></th>\n",
       "      <th>doc_1</th>\n",
       "      <th>doc_2</th>\n",
       "    </tr>\n",
       "  </thead>\n",
       "  <tbody>\n",
       "    <tr>\n",
       "      <th>doc_1</th>\n",
       "      <td>1.000000</td>\n",
       "      <td>0.474342</td>\n",
       "    </tr>\n",
       "    <tr>\n",
       "      <th>doc_2</th>\n",
       "      <td>0.474342</td>\n",
       "      <td>1.000000</td>\n",
       "    </tr>\n",
       "  </tbody>\n",
       "</table>\n",
       "</div>"
      ],
      "text/plain": [
       "          doc_1     doc_2\n",
       "doc_1  1.000000  0.474342\n",
       "doc_2  0.474342  1.000000"
      ]
     },
     "execution_count": 29,
     "metadata": {},
     "output_type": "execute_result"
    }
   ],
   "source": [
    "from sklearn.metrics.pairwise import cosine_similarity\n",
    "\n",
    "cosine_similarity_matrix = cosine_similarity(vector_matrix)\n",
    "create_dataframe(cosine_similarity_matrix,['doc_1','doc_2'])"
   ]
  },
  {
   "cell_type": "markdown",
   "id": "77bd9ca9",
   "metadata": {},
   "source": [
    "Let’s check the cosine similarity with `TfidfVectorizer`, and see how it change over `CountVectorizer`."
   ]
  },
  {
   "cell_type": "code",
   "execution_count": 30,
   "id": "f05c0d41",
   "metadata": {},
   "outputs": [
    {
     "data": {
      "text/html": [
       "<div>\n",
       "<style scoped>\n",
       "    .dataframe tbody tr th:only-of-type {\n",
       "        vertical-align: middle;\n",
       "    }\n",
       "\n",
       "    .dataframe tbody tr th {\n",
       "        vertical-align: top;\n",
       "    }\n",
       "\n",
       "    .dataframe thead th {\n",
       "        text-align: right;\n",
       "    }\n",
       "</style>\n",
       "<table border=\"1\" class=\"dataframe\">\n",
       "  <thead>\n",
       "    <tr style=\"text-align: right;\">\n",
       "      <th></th>\n",
       "      <th>data</th>\n",
       "      <th>digital</th>\n",
       "      <th>economy</th>\n",
       "      <th>is</th>\n",
       "      <th>new</th>\n",
       "      <th>of</th>\n",
       "      <th>oil</th>\n",
       "      <th>the</th>\n",
       "    </tr>\n",
       "  </thead>\n",
       "  <tbody>\n",
       "    <tr>\n",
       "      <th>doc_1</th>\n",
       "      <td>0.243777</td>\n",
       "      <td>0.34262</td>\n",
       "      <td>0.34262</td>\n",
       "      <td>0.243777</td>\n",
       "      <td>0.000000</td>\n",
       "      <td>0.34262</td>\n",
       "      <td>0.243777</td>\n",
       "      <td>0.68524</td>\n",
       "    </tr>\n",
       "    <tr>\n",
       "      <th>doc_2</th>\n",
       "      <td>0.448321</td>\n",
       "      <td>0.00000</td>\n",
       "      <td>0.00000</td>\n",
       "      <td>0.448321</td>\n",
       "      <td>0.630099</td>\n",
       "      <td>0.00000</td>\n",
       "      <td>0.448321</td>\n",
       "      <td>0.00000</td>\n",
       "    </tr>\n",
       "  </tbody>\n",
       "</table>\n",
       "</div>"
      ],
      "text/plain": [
       "           data  digital  economy        is       new       of       oil   \n",
       "doc_1  0.243777  0.34262  0.34262  0.243777  0.000000  0.34262  0.243777  \\\n",
       "doc_2  0.448321  0.00000  0.00000  0.448321  0.630099  0.00000  0.448321   \n",
       "\n",
       "           the  \n",
       "doc_1  0.68524  \n",
       "doc_2  0.00000  "
      ]
     },
     "execution_count": 30,
     "metadata": {},
     "output_type": "execute_result"
    }
   ],
   "source": [
    "from sklearn.feature_extraction.text import TfidfVectorizer\n",
    "\n",
    "Tfidf_vect = TfidfVectorizer()\n",
    "vector_matrix = Tfidf_vect.fit_transform(data)\n",
    "\n",
    "tokens = Tfidf_vect.get_feature_names_out()\n",
    "create_dataframe(vector_matrix.toarray(),tokens)"
   ]
  },
  {
   "cell_type": "code",
   "execution_count": 31,
   "id": "4b92ce86",
   "metadata": {},
   "outputs": [
    {
     "data": {
      "text/html": [
       "<div>\n",
       "<style scoped>\n",
       "    .dataframe tbody tr th:only-of-type {\n",
       "        vertical-align: middle;\n",
       "    }\n",
       "\n",
       "    .dataframe tbody tr th {\n",
       "        vertical-align: top;\n",
       "    }\n",
       "\n",
       "    .dataframe thead th {\n",
       "        text-align: right;\n",
       "    }\n",
       "</style>\n",
       "<table border=\"1\" class=\"dataframe\">\n",
       "  <thead>\n",
       "    <tr style=\"text-align: right;\">\n",
       "      <th></th>\n",
       "      <th>doc_1</th>\n",
       "      <th>doc_2</th>\n",
       "    </tr>\n",
       "  </thead>\n",
       "  <tbody>\n",
       "    <tr>\n",
       "      <th>doc_1</th>\n",
       "      <td>1.000000</td>\n",
       "      <td>0.327871</td>\n",
       "    </tr>\n",
       "    <tr>\n",
       "      <th>doc_2</th>\n",
       "      <td>0.327871</td>\n",
       "      <td>1.000000</td>\n",
       "    </tr>\n",
       "  </tbody>\n",
       "</table>\n",
       "</div>"
      ],
      "text/plain": [
       "          doc_1     doc_2\n",
       "doc_1  1.000000  0.327871\n",
       "doc_2  0.327871  1.000000"
      ]
     },
     "execution_count": 31,
     "metadata": {},
     "output_type": "execute_result"
    }
   ],
   "source": [
    "cosine_similarity_matrix = cosine_similarity(vector_matrix)\n",
    "create_dataframe(cosine_similarity_matrix,['doc_1','doc_2'])"
   ]
  },
  {
   "cell_type": "markdown",
   "id": "967774d5",
   "metadata": {},
   "source": [
    "Here, using `TfidfVectorizer` we get the cosine similarity between doc_1 and doc_2 is 0.32.  Where the `CountVectorizer` has returned the cosine similarity of doc_1 and doc_2 is 0.47. This is because `TfidfVectorizer` penalized the most frequent words in the document such as stopwords."
   ]
  },
  {
   "cell_type": "markdown",
   "id": "b859ced2",
   "metadata": {},
   "source": [
    "Now, the **distance** can be defined as \n",
    "\n",
    "\\begin{equation}\n",
    "d =1-\\mathrm{CosineSimilarity} \n",
    "\\end{equation}\n",
    "\n",
    "The intuition behind this is that if 2 vectors are perfectly the same then similarity is 1 (angle=0) and thus, distance is 0 (1-1=0)."
   ]
  },
  {
   "cell_type": "markdown",
   "id": "ba4f1104",
   "metadata": {},
   "source": [
    "**Clustering documents using similarity features**"
   ]
  },
  {
   "cell_type": "code",
   "execution_count": 33,
   "id": "cc36067d",
   "metadata": {},
   "outputs": [
    {
     "data": {
      "text/html": [
       "<div>\n",
       "<style scoped>\n",
       "    .dataframe tbody tr th:only-of-type {\n",
       "        vertical-align: middle;\n",
       "    }\n",
       "\n",
       "    .dataframe tbody tr th {\n",
       "        vertical-align: top;\n",
       "    }\n",
       "\n",
       "    .dataframe thead th {\n",
       "        text-align: right;\n",
       "    }\n",
       "</style>\n",
       "<table border=\"1\" class=\"dataframe\">\n",
       "  <thead>\n",
       "    <tr style=\"text-align: right;\">\n",
       "      <th></th>\n",
       "      <th>Document\\Cluster 1</th>\n",
       "      <th>Document\\Cluster 2</th>\n",
       "      <th>Distance</th>\n",
       "      <th>Cluster Size</th>\n",
       "    </tr>\n",
       "  </thead>\n",
       "  <tbody>\n",
       "    <tr>\n",
       "      <th>0</th>\n",
       "      <td>0.0</td>\n",
       "      <td>1.0</td>\n",
       "      <td>0.950534</td>\n",
       "      <td>2.0</td>\n",
       "    </tr>\n",
       "  </tbody>\n",
       "</table>\n",
       "</div>"
      ],
      "text/plain": [
       "  Document\\Cluster 1 Document\\Cluster 2  Distance Cluster Size\n",
       "0                0.0                1.0  0.950534          2.0"
      ]
     },
     "execution_count": 33,
     "metadata": {},
     "output_type": "execute_result"
    }
   ],
   "source": [
    "from scipy.cluster.hierarchy import dendrogram, linkage\n",
    "\n",
    "Z = linkage(similarity_matrix, 'ward')\n",
    "pd.DataFrame(Z, columns=['Document\\Cluster 1', 'Document\\Cluster 2', \n",
    "                         'Distance', 'Cluster Size'], dtype='object')"
   ]
  },
  {
   "cell_type": "code",
   "execution_count": 34,
   "id": "7e7e8164",
   "metadata": {},
   "outputs": [
    {
     "data": {
      "text/plain": [
       "<matplotlib.lines.Line2D at 0x22d05d9c1f0>"
      ]
     },
     "execution_count": 34,
     "metadata": {},
     "output_type": "execute_result"
    },
    {
     "data": {
      "image/png": "[encoded data removed]",
      "text/plain": [
       "<Figure size 800x300 with 1 Axes>"
      ]
     },
     "metadata": {},
     "output_type": "display_data"
    }
   ],
   "source": [
    "import matplotlib.pyplot as plt\n",
    "%matplotlib inline\n",
    "\n",
    "plt.figure(figsize=(8, 3))\n",
    "plt.title('Hierarchical Clustering Dendrogram')\n",
    "plt.xlabel('Data point')\n",
    "plt.ylabel('Distance')\n",
    "dendrogram(Z)\n",
    "plt.axhline(y=1.0, c='k', ls='--', lw=0.5)"
   ]
  },
  {
   "cell_type": "code",
   "execution_count": 35,
   "id": "b161c269",
   "metadata": {},
   "outputs": [
    {
     "data": {
      "text/html": [
       "<div>\n",
       "<style scoped>\n",
       "    .dataframe tbody tr th:only-of-type {\n",
       "        vertical-align: middle;\n",
       "    }\n",
       "\n",
       "    .dataframe tbody tr th {\n",
       "        vertical-align: top;\n",
       "    }\n",
       "\n",
       "    .dataframe thead th {\n",
       "        text-align: right;\n",
       "    }\n",
       "</style>\n",
       "<table border=\"1\" class=\"dataframe\">\n",
       "  <thead>\n",
       "    <tr style=\"text-align: right;\">\n",
       "      <th></th>\n",
       "      <th>Document</th>\n",
       "      <th>Category</th>\n",
       "      <th>ClusterLabel</th>\n",
       "    </tr>\n",
       "  </thead>\n",
       "  <tbody>\n",
       "    <tr>\n",
       "      <th>0</th>\n",
       "      <td>The sky is blue and beautiful.</td>\n",
       "      <td>weather</td>\n",
       "      <td>1.0</td>\n",
       "    </tr>\n",
       "    <tr>\n",
       "      <th>1</th>\n",
       "      <td>Love this blue and beautiful sky!</td>\n",
       "      <td>weather</td>\n",
       "      <td>1.0</td>\n",
       "    </tr>\n",
       "    <tr>\n",
       "      <th>2</th>\n",
       "      <td>The quick brown fox jumps over the lazy dog.</td>\n",
       "      <td>animals</td>\n",
       "      <td>NaN</td>\n",
       "    </tr>\n",
       "    <tr>\n",
       "      <th>3</th>\n",
       "      <td>A king's breakfast has sausages, ham, bacon, e...</td>\n",
       "      <td>food</td>\n",
       "      <td>NaN</td>\n",
       "    </tr>\n",
       "    <tr>\n",
       "      <th>4</th>\n",
       "      <td>I love green eggs, ham, sausages and bacon!</td>\n",
       "      <td>food</td>\n",
       "      <td>NaN</td>\n",
       "    </tr>\n",
       "    <tr>\n",
       "      <th>5</th>\n",
       "      <td>The brown fox is quick and the blue dog is lazy!</td>\n",
       "      <td>animals</td>\n",
       "      <td>NaN</td>\n",
       "    </tr>\n",
       "    <tr>\n",
       "      <th>6</th>\n",
       "      <td>The sky is very blue and the sky is very beaut...</td>\n",
       "      <td>weather</td>\n",
       "      <td>NaN</td>\n",
       "    </tr>\n",
       "    <tr>\n",
       "      <th>7</th>\n",
       "      <td>The dog is lazy but the brown fox is quick!</td>\n",
       "      <td>animals</td>\n",
       "      <td>NaN</td>\n",
       "    </tr>\n",
       "  </tbody>\n",
       "</table>\n",
       "</div>"
      ],
      "text/plain": [
       "                                            Document Category  ClusterLabel\n",
       "0                     The sky is blue and beautiful.  weather           1.0\n",
       "1                  Love this blue and beautiful sky!  weather           1.0\n",
       "2       The quick brown fox jumps over the lazy dog.  animals           NaN\n",
       "3  A king's breakfast has sausages, ham, bacon, e...     food           NaN\n",
       "4        I love green eggs, ham, sausages and bacon!     food           NaN\n",
       "5   The brown fox is quick and the blue dog is lazy!  animals           NaN\n",
       "6  The sky is very blue and the sky is very beaut...  weather           NaN\n",
       "7        The dog is lazy but the brown fox is quick!  animals           NaN"
      ]
     },
     "execution_count": 35,
     "metadata": {},
     "output_type": "execute_result"
    }
   ],
   "source": [
    "from scipy.cluster.hierarchy import fcluster\n",
    "max_dist = 1.0\n",
    "\n",
    "cluster_labels = fcluster(Z, max_dist, criterion='distance')\n",
    "cluster_labels = pd.DataFrame(cluster_labels, columns=['ClusterLabel'])\n",
    "pd.concat([corpus_df, cluster_labels], axis=1)"
   ]
  },
  {
   "cell_type": "markdown",
   "id": "24e3ee4a",
   "metadata": {},
   "source": [
    "## Word Embedding"
   ]
  },
  {
   "cell_type": "markdown",
   "id": "9dc6bb2c",
   "metadata": {},
   "source": [
    "Humans have always excelled at understanding languages. It is easy for humans to understand the relationship between words but for computers, this task may not be simple. Word embeddings are basically a form of word representation that bridges the human understanding of language to that of a machine. For example, we humans understand the words like king and queen, man and woman, tiger and tigress have a certain type of relation between them but how can a computer figure this out?\n",
    "\n",
    "The different encoding we have discussed so far is arbitrary as it does not capture any relationship between words. \n",
    "It can be challenging for a model to interpret, for example, a linear classifier learns a single weight for each feature. \n",
    "Because there is no relationship between the similarity of any two words and the similarity of their encodings, this feature-weight combination is not meaningful.\n",
    "\n",
    "It should be nice to have representations of text in an n-dimensional space where words that have the same meaning have a similar representation. Meaning that two similar words are represented by almost similar vectors that are very closely placed in a vector space. \n",
    "\n",
    "Thus when using word embeddings, all individual words are represented as real-valued vectors in a predefined vector space. \n",
    "Each word is mapped to one vector and the vector values are learned in a way that resembles a neural network. Word2Vec is one of the most popular technique to learn word embeddings using shallow neural network. It was developed by Tomas Mikolov in 2013 at Google.\n",
    "\n",
    "The concept of embeddings arises from a branch of Natural Language Processing called - “Distributional Semantics”. It is based on the simple intuition that: ***Words that occur in similar contexts tend to have similar meanings***. In other words, a word’s meaning is given by the words that it appears frequently with."
   ]
  },
  {
   "cell_type": "markdown",
   "id": "29b9d50b",
   "metadata": {},
   "source": [
    "### Word2Vec"
   ]
  },
  {
   "cell_type": "markdown",
   "id": "92315c13",
   "metadata": {},
   "source": [
    "Word2vec is a method to efficiently create word embeddings by using a two-layer neural network.  \n",
    "It was developed by Tomas Mikolov, et al. at Google in 2013 as a response to make the neural-network-based training of the embedding more efficient and since then has become the de facto standard for developing pre-trained word embedding. \t\t  \n",
    "The input of word2vec is a text corpus and its output is a set of vectors known as feature vectors that represent words in that corpus. \n",
    "The Word2Vec objective function causes the words that have a similar context to have similar embeddings. \n",
    "Thus in this vector space, these words are really close. Mathematically, the cosine of the angle (Q) between such vectors should be close to 1, i.e. angle close to 0.\n",
    "\n",
    "Word2vec is not a single algorithm but a combination of two techniques - **CBOW(Continuous bag of words)** and **Skip-gram** model. Both these are shallow neural networks which map word(s) to the target variable which is also a word(s). Both these techniques learn weights which act as word vector representations. \n",
    "\n"
   ]
  },
  {
   "cell_type": "markdown",
   "id": "1d899ea0",
   "metadata": {},
   "source": [
    "**CBOW**. \n",
    "\n",
    "CBOW predicts the probability of a word to occur **given the words surrounding it**. We can consider a single word or a group of words. But for simplicity, we will take a single context word and try to predict a single target word.\n",
    "The English language contains almost 1.2 million words, making it impossible to include so many words in our example. So we will consider a small example in which we have only four words i.e. ***live***, ***home***, ***they*** and ***at***. For simplicity, we will consider that the corpus contains only one sentence, that being, ***They live at home***. First, we convert each word into a one-hot encoding form. Also, we'll not consider all the words in the sentence but ll only take certain words that are in a window."
   ]
  },
  {
   "cell_type": "markdown",
   "id": "680f6605",
   "metadata": {},
   "source": [
    "![image.png](./img/word-embedding-1.png)"
   ]
  },
  {
   "cell_type": "markdown",
   "id": "6f8d9dea",
   "metadata": {},
   "source": [
    "For example for a window size equal to three, we only consider three words\n",
    "in a sentence. The middle word is to be predicted and the surrounding two\n",
    "words are fed into the neural network as context. The window is then slid\n",
    "and the process is repeated again. Finally, after training the network repeatedly by sliding the window a\n",
    "shown above, we get weights which we use to get the embeddings as\n",
    "shown below. Usually, we take a window size of around 8-10 words and have a\n",
    "vector size of 300."
   ]
  },
  {
   "cell_type": "markdown",
   "id": "e4b585ff",
   "metadata": {},
   "source": [
    "![image.png](./img/word-embedding-2.png)"
   ]
  },
  {
   "cell_type": "markdown",
   "id": "2de47142",
   "metadata": {},
   "source": [
    "#### Implementing a word2vec model using a CBOW (Continuous Bag of Words) neural network architecture"
   ]
  },
  {
   "cell_type": "markdown",
   "id": "ba03c128",
   "metadata": {},
   "source": [
    "This code process text data from Lewis Carroll's \"*Alice's Adventures in Wonderland*\", which is part of the Gutenberg corpus available through the Natural Language Toolkit (NLTK) in Python. The code performs several text preprocessing steps to clean and normalize the text data."
   ]
  },
  {
   "cell_type": "code",
   "execution_count": 38,
   "id": "66444047",
   "metadata": {},
   "outputs": [
    {
     "name": "stderr",
     "output_type": "stream",
     "text": [
      "[nltk_data] Downloading package gutenberg to\n",
      "[nltk_data]     C:\\Users\\User\\AppData\\Roaming\\nltk_data...\n",
      "[nltk_data]   Package gutenberg is already up-to-date!\n",
      "[nltk_data] Downloading package punkt to\n",
      "[nltk_data]     C:\\Users\\User\\AppData\\Roaming\\nltk_data...\n",
      "[nltk_data]   Package punkt is already up-to-date!\n"
     ]
    },
    {
     "data": {
      "text/plain": [
       "True"
      ]
     },
     "execution_count": 38,
     "metadata": {},
     "output_type": "execute_result"
    }
   ],
   "source": [
    "# This command instructs NLTK to download the \"gutenberg\" corpus. The Gutenberg corpus is a collection of publicly \n",
    "# available books, primarily in the English language, from Project Gutenberg, a digital library of free eBooks. \n",
    "# It includes a wide range of literary works and serves as a valuable resource for text analysis and natural \n",
    "# language processing tasks.\n",
    "nltk.download('gutenberg')\n",
    "# This command tells NLTK to download the \"punkt\" tokenizer models. The \"punkt\" tokenizer models are used for \n",
    "# tokenizing (splitting) text into individual words or sentences.\n",
    "nltk.download('punkt')"
   ]
  },
  {
   "cell_type": "code",
   "execution_count": 39,
   "id": "d96c9ce2",
   "metadata": {},
   "outputs": [
    {
     "data": {
      "text/plain": [
       "[['[', 'Alice', \"'\", 's', 'Adventures', 'in', 'Wonderland', 'by', 'Lewis', 'Carroll', '1865', ']'], ['CHAPTER', 'I', '.'], ...]"
      ]
     },
     "execution_count": 39,
     "metadata": {},
     "output_type": "execute_result"
    }
   ],
   "source": [
    "# The code imports the gutenberg corpus from the NLTK and the punctuation constant from the string module.\n",
    "from nltk.corpus import gutenberg\n",
    "from string import punctuation\n",
    "\n",
    "# loads the text from the \"carroll-alice.txt\" file in the Gutenberg corpus and stores it in the book variable. \n",
    "# The gutenberg.sents method is used to retrieve the sentences from the book.\n",
    "book         = gutenberg.sents('carroll-alice.txt') \n",
    "#  creates a remove_terms variable, which is a string containing all punctuation marks and the digits 0-9. \n",
    "# This variable is intended to be used to remove these characters from the text.\n",
    "remove_terms = punctuation + '0123456789'\n",
    "\n",
    "book"
   ]
  },
  {
   "cell_type": "code",
   "execution_count": 40,
   "id": "2cb7ee0c",
   "metadata": {},
   "outputs": [],
   "source": [
    "# Goes through each sentence in the book and performs the following operations:\n",
    "# - It converts each word in the sentence to lowercase.\n",
    "# - It removes any word that is in the remove_terms string (punctuation and digits).\n",
    "# The result is a list of lists, where each inner list represents a sentence, and each sentence consists \n",
    "# of words in lowercase without punctuation and digits.\n",
    "norm_doc = [[word.lower() for word in sent if word not in remove_terms] for sent in book]\n",
    "# Joins the words in each sentence into a single string, using a space as a separator. \n",
    "# This creates a list of normalized, space-separated sentences.\n",
    "norm_doc = [' '.join(tok_sent) for tok_sent in norm_doc]\n",
    "# The code applies the normalize_corpus function to further normalize the text. The filter(None, ...) part \n",
    "# removes any empty sentences that may have been created during normalization.\n",
    "norm_doc = filter(None, normalize_corpus(norm_doc))\n",
    "# Filters out sentences that have fewer than 3 words (as determined by splitting the sentence into words using spaces).\n",
    "norm_doc = [tok_sent for tok_sent in norm_doc if len(tok_sent.split()) > 2]"
   ]
  },
  {
   "cell_type": "code",
   "execution_count": 41,
   "id": "dc145ae6",
   "metadata": {},
   "outputs": [
    {
     "name": "stdout",
     "output_type": "stream",
     "text": [
      "Total lines: 1703\n",
      "\n",
      "Sample line: ['I', \"'\", 'm', 'sure', '_I_', 'shan', \"'\", 't', 'be', 'able', '!']\n",
      "\n",
      "Processed line: besides oh dear puzzling\n"
     ]
    }
   ],
   "source": [
    "print('Total lines:', len(book))\n",
    "print('\\nSample line:', book[100])\n",
    "print('\\nProcessed line:', norm_doc[100])"
   ]
  },
  {
   "cell_type": "code",
   "execution_count": 42,
   "id": "8e090f65",
   "metadata": {},
   "outputs": [],
   "source": [
    "# Import 'to_categorical' for one-hot encoding and 'text' and 'sequence' modules for text preprocessing.\n",
    "from keras.utils import to_categorical\n",
    "from keras.preprocessing import text\n",
    "from keras.preprocessing import sequence\n",
    "# create a tokenizer object by calling text.Tokenizer(). A tokenizer is used to convert text into a \n",
    "# sequence of numbers (word indices) and perform various text processing operations.\n",
    "tokenizer = text.Tokenizer()\n",
    "# fits the tokenizer on the text data stored in the norm_doc variable. The fit_on_texts method of \n",
    "# the tokenizer is used for this purpose. Fitting the tokenizer means that it learns the vocabulary \n",
    "# of the text and assigns a unique integer index to each word based on its frequency in the given text.\n",
    "tokenizer.fit_on_texts(norm_doc)\n",
    "# After fitting the tokenizer, the code extracts the word-to-index mapping using the word_index attribute \n",
    "# of the tokenizer. This mapping is stored in the word2id variable.\n",
    "word2id = tokenizer.word_index"
   ]
  },
  {
   "cell_type": "markdown",
   "id": "e65cf5e7",
   "metadata": {},
   "source": [
    "The result of this code is that you have a `word2id` dictionary where words from the `norm_doc` text data are mapped to unique integer indices. These integer indices can be used for various purposes, such as training machine learning models, including neural networks, that require numerical input. In the context of natural language processing (NLP), this is an essential step as it allows you to represent text data in a format suitable for model training and prediction."
   ]
  },
  {
   "cell_type": "code",
   "execution_count": 43,
   "id": "e99a66a6",
   "metadata": {},
   "outputs": [
    {
     "data": {
      "text/plain": [
       "2"
      ]
     },
     "execution_count": 43,
     "metadata": {},
     "output_type": "execute_result"
    }
   ],
   "source": [
    "word2id.get('alice')"
   ]
  },
  {
   "cell_type": "markdown",
   "id": "5d697d0d",
   "metadata": {},
   "source": [
    "see [here](https://medium.com/@bramblexu/why-tokenizer-in-keras-reserve-word-index-0-33b2c634cca2) for an explanation of padding"
   ]
  },
  {
   "cell_type": "code",
   "execution_count": 44,
   "id": "86639ea8",
   "metadata": {},
   "outputs": [],
   "source": [
    "word2id['PAD'] = 0"
   ]
  },
  {
   "cell_type": "markdown",
   "id": "bb8a7946",
   "metadata": {},
   "source": [
    "To find a word from an index using the word2id dictionary, you can reverse the dictionary by creating a new dictionary where the keys are the integer indices and the values are the corresponding words. Here's how you can do it in Python using [dictionary comprehension](https://www.datacamp.com/tutorial/python-dictionary-comprehension):"
   ]
  },
  {
   "cell_type": "code",
   "execution_count": 45,
   "id": "71b8f559",
   "metadata": {},
   "outputs": [
    {
     "name": "stdout",
     "output_type": "stream",
     "text": [
      "Vocabulary Size: 2379\n",
      "Vocabulary Sample: [('said', 1), ('alice', 2), ('little', 3), ('one', 4), ('would', 5), ('know', 6), ('went', 7), ('like', 8), ('could', 9), ('time', 10)]\n"
     ]
    }
   ],
   "source": [
    "# Reverses the word2id dictionary by using a dictionary comprehension. \n",
    "# This line of code swaps the keys and values of word2id, so the resulting id2word dictionary \n",
    "# maps integer indices (IDs) to words. It allows you to look up words using their numerical indices.\n",
    "id2word = {v:k for k, v in word2id.items()}\n",
    "# This line of code creates a list of lists, where each inner list represents a document in the \n",
    "# norm_doc data, and the elements of these inner lists are word indices. It uses list comprehensions \n",
    "# and the text.text_to_word_sequence method from Keras to tokenize the text documents and map each \n",
    "# word to its corresponding ID using the word2id dictionary.\n",
    "wids = [[word2id[w] for w in text.text_to_word_sequence(doc)] for doc in norm_doc]\n",
    "# This is the total number of unique words in the vocabulary, which is determined by the length of \n",
    "# the word2id dictionary.\n",
    "vocab_size  = len(word2id)\n",
    "\n",
    "print('Vocabulary Size:', vocab_size)\n",
    "print('Vocabulary Sample:', list(word2id.items())[:10])"
   ]
  },
  {
   "cell_type": "code",
   "execution_count": 46,
   "id": "024faffb",
   "metadata": {},
   "outputs": [
    {
     "data": {
      "text/plain": [
       "'alice'"
      ]
     },
     "execution_count": 46,
     "metadata": {},
     "output_type": "execute_result"
    }
   ],
   "source": [
    "id2word[2]"
   ]
  },
  {
   "cell_type": "code",
   "execution_count": 47,
   "id": "5cb0d7bd",
   "metadata": {},
   "outputs": [
    {
     "data": {
      "text/plain": [
       "[2, 337, 669, 1273, 1274]"
      ]
     },
     "execution_count": 47,
     "metadata": {},
     "output_type": "execute_result"
    }
   ],
   "source": [
    "wids[0]"
   ]
  },
  {
   "cell_type": "code",
   "execution_count": 48,
   "id": "7dca8e29",
   "metadata": {},
   "outputs": [
    {
     "name": "stdout",
     "output_type": "stream",
     "text": [
      "alice\n",
      "adventures\n",
      "wonderland\n",
      "lewis\n",
      "carroll\n"
     ]
    }
   ],
   "source": [
    "for n in wids[0]:\n",
    "    print(id2word[n])"
   ]
  },
  {
   "cell_type": "code",
   "execution_count": 49,
   "id": "20a3c87e",
   "metadata": {},
   "outputs": [],
   "source": [
    "# Define the dimension of the word embeddings. In this case, it is set to 100, meaning each word will \n",
    "# be represented by a vector of length 100.\n",
    "embed_size  = 100\n",
    "# Define the window size for a word embedding algorithm (e.g., Word2Vec). It defines the context window \n",
    "# for word prediction.\n",
    "window_size = 2"
   ]
  },
  {
   "cell_type": "markdown",
   "id": "9279eb80",
   "metadata": {},
   "source": [
    "The function `generate_context_word_pairs` is a [generator](https://realpython.com/introduction-to-python-generators/) function that takes a text corpus and other parameters related to word embedding using the Word2Vec algorithm. It generates context-word pairs for training a Word2Vec model."
   ]
  },
  {
   "cell_type": "code",
   "execution_count": 50,
   "id": "8e2c431b",
   "metadata": {},
   "outputs": [],
   "source": [
    "def generate_context_word_pairs(corpus, window_size, vocab_size):\n",
    "    '''\n",
    "    Input parameters:\n",
    "    \n",
    "    - corpus:      This parameter represents the input text corpus, which is a list of lists, where each inner list \n",
    "                   represents a sentence or document, and its elements are the words in that sentence.\n",
    "    - window_size: It specifies the size of the context window, which determines how many words around a target \n",
    "                   word will be considered as context words. The context window size is typically set to a fixed value, \n",
    "                   like 2, to capture nearby context.\n",
    "    - vocab_size:  The vocabulary size represents the total number of unique words in the corpus. This is used to \n",
    "                   one-hot encode the label words.\n",
    "    '''\n",
    "    # context_length is calculated as window_size * 2, which gives the total number of words in the context \n",
    "    # of a target word (before and after the target word).\n",
    "    context_length = window_size*2\n",
    "    # This loop iterates over each sentence (list of words) in the corpus\n",
    "    for words in corpus:\n",
    "        # the number of words in the current sentence\n",
    "        sentence_length = len(words)\n",
    "        # This loop iterates through each word in the sentence along with its index \n",
    "        for index, word in enumerate(words):\n",
    "            # we initialize two empty lists: context_words and label_word. context_words will hold the words \n",
    "            # in the context of the target word, and label_word will hold the target word itself.\n",
    "            context_words = []\n",
    "            label_word    = []  \n",
    "            # The context window includes words before and after the target word.\n",
    "            start         = index - window_size\n",
    "            end           = index + window_size + 1\n",
    "            # appends the words in the context window (excluding the target word itself) to the context_words \n",
    "            # list using a list comprehension.\n",
    "            context_words.append([words[i] \n",
    "                                 for i in range(start, end) \n",
    "                                 if 0 <= i < sentence_length \n",
    "                                 and i != index])\n",
    "            # The target word is appended to the label_word list.\n",
    "            label_word.append(word)\n",
    "            # the following line converts context_words into a fixed-size sequence of word indices using \n",
    "            # sequence.pad_sequences. This is done because different sentences may have different numbers \n",
    "            # of context words, and it's necessary to ensure that they all have the same length. Padding \n",
    "            # is added as needed.\n",
    "            x = sequence.pad_sequences(context_words, maxlen=context_length)\n",
    "            # The target word (label) is one-hot encoded using to_categorical with a vocabulary size of \n",
    "            # vocab_size. This means that the target word is represented as a binary vector where all \n",
    "            # elements are zero except for the index corresponding to the word, which is set to one.\n",
    "            y = to_categorical(label_word, vocab_size)\n",
    "            # Finally, the function yields the context-word pairs as tuples (x, y), where x is the \n",
    "            # context and y is the one-hot encoded label. This allows you to use this generator function \n",
    "            # in a training loop for Word2Vec or similar word embedding models. The use of a generator \n",
    "            # helps in memory efficiency when working with large corpora.\n",
    "            yield (x, y)"
   ]
  },
  {
   "cell_type": "markdown",
   "id": "0ab77440",
   "metadata": {},
   "source": [
    "The following code prints the first 10 context-word pairs with their corresponding context and target words. This is useful for inspecting and verifying the context and target pairs generated by the Word2Vec training data. It can be particularly helpful for debugging and understanding the training data before training a Word2Vec model."
   ]
  },
  {
   "cell_type": "code",
   "execution_count": 51,
   "id": "aa105fba",
   "metadata": {},
   "outputs": [
    {
     "name": "stdout",
     "output_type": "stream",
     "text": [
      "Context (X): ['alice', 'adventures', 'lewis', 'carroll'] -> Target (Y): wonderland\n",
      "Context (X): ['alice', 'beginning', 'tired', 'sitting'] -> Target (Y): get\n",
      "Context (X): ['beginning', 'get', 'sitting', 'sister'] -> Target (Y): tired\n",
      "Context (X): ['get', 'tired', 'sister', 'bank'] -> Target (Y): sitting\n",
      "Context (X): ['tired', 'sitting', 'bank', 'nothing'] -> Target (Y): sister\n",
      "Context (X): ['sitting', 'sister', 'nothing', 'twice'] -> Target (Y): bank\n",
      "Context (X): ['sister', 'bank', 'twice', 'peeped'] -> Target (Y): nothing\n",
      "Context (X): ['bank', 'nothing', 'peeped', 'book'] -> Target (Y): twice\n",
      "Context (X): ['nothing', 'twice', 'book', 'sister'] -> Target (Y): peeped\n",
      "Context (X): ['twice', 'peeped', 'sister', 'reading'] -> Target (Y): book\n",
      "Context (X): ['peeped', 'book', 'reading', 'pictures'] -> Target (Y): sister\n"
     ]
    }
   ],
   "source": [
    "i = 0\n",
    "# This loop iterates through context-word pairs generated by the generate_context_word_pairs function.\n",
    "for x, y in generate_context_word_pairs(corpus=wids, window_size=window_size, vocab_size=vocab_size):\n",
    "    if 0 not in x[0]:\n",
    "        print('Context (X):', [id2word[w] for w in x[0]], '-> Target (Y):', id2word[np.argwhere(y[0])[0][0]])\n",
    "    \n",
    "        if i == 10:\n",
    "            break\n",
    "        i += 1"
   ]
  },
  {
   "cell_type": "markdown",
   "id": "938eaa91",
   "metadata": {},
   "source": [
    "#### Build CBOW Deep Network Model"
   ]
  },
  {
   "cell_type": "markdown",
   "id": "45017e41",
   "metadata": {},
   "source": [
    "Now we can set up a CBOW model for word embeddings. The model takes context words as input, computes the mean of their embeddings, and then predicts the target word using a softmax output layer. It's a simple but effective architecture for learning word representations from a large text corpus."
   ]
  },
  {
   "cell_type": "code",
   "execution_count": 38,
   "id": "a997c9c0",
   "metadata": {},
   "outputs": [],
   "source": [
    "import keras.backend as K"
   ]
  },
  {
   "cell_type": "markdown",
   "id": "7e9bd918",
   "metadata": {},
   "source": [
    "In Keras, `keras.backend` is a module that provides a backend-agnostic interface for low-level operations in neural networks. It allows Keras to work with multiple backend engines, such as TensorFlow, Theano, and CNTK, without needing to change the high-level code. The `keras.backend` module abstracts the operations, allowing Keras to be used with different computational backends seamlessly.\n",
    "\n",
    "Some of the functions and utilities you can find in `keras.backend` include:\n",
    "\n",
    "1. **Tensor operations**: `keras.backend` provides a consistent way to perform tensor operations, such as addition, subtraction, multiplication, and more, across different backend engines.\n",
    "\n",
    "2. **Math functions**: It includes mathematical functions like `mean`, `sum`, `abs`, and others, which work consistently across different backends.\n",
    "\n",
    "3. **Variable handling**: You can create and manipulate variables and placeholders with functions like `variable`, `placeholder`, and `update`.\n",
    "\n",
    "4. **Control flow**: `keras.backend` supports control flow operations like `switch`, `if_else`, and `not_equal`.\n",
    "\n",
    "5. **Convolution operations**: You can find functions for 2D and 3D convolutions, pooling operations, and more.\n",
    "\n",
    "6. **Loss functions**: Many commonly used loss functions for different types of tasks, such as classification, regression, and sequence-to-sequence tasks, are available in `keras.backend`.\n",
    "\n",
    "7. **Activation functions**: Functions like `sigmoid`, `tanh`, `relu`, and others can be found for defining activation functions.\n",
    "\n",
    "8. **Initialization methods**: `keras.backend` provides functions for initializing model weights, such as `zeros`, `ones`, and `glorot_normal`.\n",
    "\n",
    "The purpose of `keras.backend` is to ensure that the high-level Keras code can be written independently of the underlying backend engine. When you choose a backend (e.g., TensorFlow or Theano) for your Keras installation, Keras will use the appropriate backend-specific functions from `keras.backend` to perform the operations. This abstraction allows you to write code that is portable across different backend engines."
   ]
  },
  {
   "cell_type": "code",
   "execution_count": 39,
   "id": "85e05856",
   "metadata": {},
   "outputs": [
    {
     "name": "stdout",
     "output_type": "stream",
     "text": [
      "Model: \"sequential\"\n",
      "_________________________________________________________________\n",
      " Layer (type)                Output Shape              Param #   \n",
      "=================================================================\n",
      " embedding (Embedding)       (None, 4, 100)            237900    \n",
      "                                                                 \n",
      " lambda (Lambda)             (None, 100)               0         \n",
      "                                                                 \n",
      " dense (Dense)               (None, 2379)              240279    \n",
      "                                                                 \n",
      "=================================================================\n",
      "Total params: 478179 (1.82 MB)\n",
      "Trainable params: 478179 (1.82 MB)\n",
      "Non-trainable params: 0 (0.00 Byte)\n",
      "_________________________________________________________________\n",
      "None\n"
     ]
    }
   ],
   "source": [
    "from keras.models import Sequential\n",
    "from keras.layers import Dense, Embedding, Lambda\n",
    "\n",
    "# A Sequential model is created and stored in the cbow variable. Sequential models are a linear stack of layers, where you \n",
    "#can add layers one after the other.\n",
    "cbow = Sequential()\n",
    "# An Embedding layer is added to the model. \n",
    "# - input_dim is set to vocab_size, which specifies the size of the vocabulary. This layer is responsible for \n",
    "#   learning word embeddings, mapping each word to a dense vector of embed_size dimensions.\n",
    "# - output_dim is set to embed_size, determining the dimensionality of the word embeddings.\n",
    "# - input_length is set to window_size*2, indicating the size of the input context window around the target word.\n",
    "cbow.add(Embedding(input_dim=vocab_size, output_dim=embed_size, input_length=window_size*2))\n",
    "# The Lambda layer is used to compute the mean of the embeddings within the context window. This step helps \n",
    "# aggregate the context information. It takes the mean along axis=1, which means it calculates the mean for \n",
    "# each word's embedding vectors. output_shape is set to (embed_size,) to specify the shape of the output.\n",
    "cbow.add(Lambda(lambda x: K.mean(x, axis=1), output_shape=(embed_size,)))\n",
    "# This layer is the output layer, and it has vocab_size neurons, which corresponds to the size of the vocabulary.\n",
    "# The activation function used in this layer is 'softmax', which is typical for language modeling tasks like \n",
    "# predicting the next word in a sequence.\n",
    "cbow.add(Dense(vocab_size, activation='softmax'))\n",
    "# The model is compiled. We specifie the loss function as categorical cross-entropy, which is suitable for \n",
    "# multi-class classification tasks like predicting words from a vocabulary. The optimizer is set to 'rmsprop', \n",
    "# which is a popular optimization algorithm for training neural networks.\n",
    "cbow.compile(loss='categorical_crossentropy', optimizer='rmsprop')\n",
    "print(cbow.summary())"
   ]
  },
  {
   "cell_type": "markdown",
   "id": "11843136",
   "metadata": {},
   "source": [
    "Now we can train our model. The following code iterates through five epochs, processing context-word pairs in each epoch, and updating the model's weights to minimize the loss. The loss indicates how well the model is performing in predicting the target word from its context. After each epoch, it prints the epoch number and the loss, providing an indication of how the model's performance is improving over time through training."
   ]
  },
  {
   "cell_type": "markdown",
   "id": "091df9f6",
   "metadata": {},
   "source": [
    "> **Note**: Keras’ `train_on_batch` function accepts a single batch of data, perform backpropagation on it and then update the model parameters. The batch of data can be any size, doesn’t require to define explicitly. When you want to train the model with your own custom rule and want to take the entire control over model training, you can use `Keras.train_on_batch()` function."
   ]
  },
  {
   "cell_type": "code",
   "execution_count": 40,
   "id": "1a4b6cd8",
   "metadata": {},
   "outputs": [],
   "source": [
    "nepochs = 25"
   ]
  },
  {
   "cell_type": "code",
   "execution_count": 41,
   "id": "27d3d95b",
   "metadata": {},
   "outputs": [
    {
     "name": "stdout",
     "output_type": "stream",
     "text": [
      "Processed 1000 (context, word) pairs\n",
      "Processed 2000 (context, word) pairs\n",
      "Processed 3000 (context, word) pairs\n",
      "Processed 4000 (context, word) pairs\n",
      "Processed 5000 (context, word) pairs\n",
      "Processed 6000 (context, word) pairs\n",
      "Processed 7000 (context, word) pairs\n",
      "Processed 8000 (context, word) pairs\n",
      "Processed 9000 (context, word) pairs\n",
      "Processed 10000 (context, word) pairs\n",
      "Processed 11000 (context, word) pairs\n",
      "Epoch: 1 \tLoss: 85460.81851410866\n",
      "\n",
      "Processed 1000 (context, word) pairs\n",
      "Processed 2000 (context, word) pairs\n",
      "Processed 3000 (context, word) pairs\n",
      "Processed 4000 (context, word) pairs\n",
      "Processed 5000 (context, word) pairs\n",
      "Processed 6000 (context, word) pairs\n",
      "Processed 7000 (context, word) pairs\n",
      "Processed 8000 (context, word) pairs\n",
      "Processed 9000 (context, word) pairs\n",
      "Processed 10000 (context, word) pairs\n",
      "Processed 11000 (context, word) pairs\n",
      "Epoch: 2 \tLoss: 84737.6819858551\n",
      "\n",
      "Processed 1000 (context, word) pairs\n",
      "Processed 2000 (context, word) pairs\n",
      "Processed 3000 (context, word) pairs\n",
      "Processed 4000 (context, word) pairs\n",
      "Processed 5000 (context, word) pairs\n",
      "Processed 6000 (context, word) pairs\n",
      "Processed 7000 (context, word) pairs\n",
      "Processed 8000 (context, word) pairs\n",
      "Processed 9000 (context, word) pairs\n",
      "Processed 10000 (context, word) pairs\n",
      "Processed 11000 (context, word) pairs\n",
      "Epoch: 3 \tLoss: 85159.69201733172\n",
      "\n",
      "Processed 1000 (context, word) pairs\n",
      "Processed 2000 (context, word) pairs\n",
      "Processed 3000 (context, word) pairs\n",
      "Processed 4000 (context, word) pairs\n",
      "Processed 5000 (context, word) pairs\n",
      "Processed 6000 (context, word) pairs\n",
      "Processed 7000 (context, word) pairs\n",
      "Processed 8000 (context, word) pairs\n",
      "Processed 9000 (context, word) pairs\n",
      "Processed 10000 (context, word) pairs\n",
      "Processed 11000 (context, word) pairs\n",
      "Epoch: 4 \tLoss: 85388.77878373489\n",
      "\n",
      "Processed 1000 (context, word) pairs\n",
      "Processed 2000 (context, word) pairs\n",
      "Processed 3000 (context, word) pairs\n",
      "Processed 4000 (context, word) pairs\n",
      "Processed 5000 (context, word) pairs\n",
      "Processed 6000 (context, word) pairs\n",
      "Processed 7000 (context, word) pairs\n",
      "Processed 8000 (context, word) pairs\n",
      "Processed 9000 (context, word) pairs\n",
      "Processed 10000 (context, word) pairs\n",
      "Processed 11000 (context, word) pairs\n",
      "Epoch: 5 \tLoss: 85452.56059477106\n",
      "\n",
      "Processed 1000 (context, word) pairs\n",
      "Processed 2000 (context, word) pairs\n",
      "Processed 3000 (context, word) pairs\n",
      "Processed 4000 (context, word) pairs\n",
      "Processed 5000 (context, word) pairs\n",
      "Processed 6000 (context, word) pairs\n",
      "Processed 7000 (context, word) pairs\n",
      "Processed 8000 (context, word) pairs\n",
      "Processed 9000 (context, word) pairs\n",
      "Processed 10000 (context, word) pairs\n",
      "Processed 11000 (context, word) pairs\n",
      "Epoch: 6 \tLoss: 85372.82151035592\n",
      "\n",
      "Processed 1000 (context, word) pairs\n",
      "Processed 2000 (context, word) pairs\n",
      "Processed 3000 (context, word) pairs\n",
      "Processed 4000 (context, word) pairs\n",
      "Processed 5000 (context, word) pairs\n",
      "Processed 6000 (context, word) pairs\n",
      "Processed 7000 (context, word) pairs\n",
      "Processed 8000 (context, word) pairs\n",
      "Processed 9000 (context, word) pairs\n",
      "Processed 10000 (context, word) pairs\n",
      "Processed 11000 (context, word) pairs\n",
      "Epoch: 7 \tLoss: 85297.65138174221\n",
      "\n",
      "Processed 1000 (context, word) pairs\n",
      "Processed 2000 (context, word) pairs\n",
      "Processed 3000 (context, word) pairs\n",
      "Processed 4000 (context, word) pairs\n",
      "Processed 5000 (context, word) pairs\n",
      "Processed 6000 (context, word) pairs\n",
      "Processed 7000 (context, word) pairs\n",
      "Processed 8000 (context, word) pairs\n",
      "Processed 9000 (context, word) pairs\n",
      "Processed 10000 (context, word) pairs\n",
      "Processed 11000 (context, word) pairs\n",
      "Epoch: 8 \tLoss: 85206.74978960678\n",
      "\n",
      "Processed 1000 (context, word) pairs\n",
      "Processed 2000 (context, word) pairs\n",
      "Processed 3000 (context, word) pairs\n",
      "Processed 4000 (context, word) pairs\n",
      "Processed 5000 (context, word) pairs\n",
      "Processed 6000 (context, word) pairs\n",
      "Processed 7000 (context, word) pairs\n",
      "Processed 8000 (context, word) pairs\n",
      "Processed 9000 (context, word) pairs\n",
      "Processed 10000 (context, word) pairs\n",
      "Processed 11000 (context, word) pairs\n",
      "Epoch: 9 \tLoss: 85084.3120309459\n",
      "\n",
      "Processed 1000 (context, word) pairs\n",
      "Processed 2000 (context, word) pairs\n",
      "Processed 3000 (context, word) pairs\n",
      "Processed 4000 (context, word) pairs\n",
      "Processed 5000 (context, word) pairs\n",
      "Processed 6000 (context, word) pairs\n",
      "Processed 7000 (context, word) pairs\n",
      "Processed 8000 (context, word) pairs\n",
      "Processed 9000 (context, word) pairs\n",
      "Processed 10000 (context, word) pairs\n",
      "Processed 11000 (context, word) pairs\n",
      "Epoch: 10 \tLoss: 84909.92210607138\n",
      "\n",
      "Processed 1000 (context, word) pairs\n",
      "Processed 2000 (context, word) pairs\n",
      "Processed 3000 (context, word) pairs\n",
      "Processed 4000 (context, word) pairs\n",
      "Processed 5000 (context, word) pairs\n",
      "Processed 6000 (context, word) pairs\n",
      "Processed 7000 (context, word) pairs\n",
      "Processed 8000 (context, word) pairs\n",
      "Processed 9000 (context, word) pairs\n",
      "Processed 10000 (context, word) pairs\n",
      "Processed 11000 (context, word) pairs\n",
      "Epoch: 11 \tLoss: 84813.94333995413\n",
      "\n",
      "Processed 1000 (context, word) pairs\n",
      "Processed 2000 (context, word) pairs\n",
      "Processed 3000 (context, word) pairs\n",
      "Processed 4000 (context, word) pairs\n",
      "Processed 5000 (context, word) pairs\n",
      "Processed 6000 (context, word) pairs\n",
      "Processed 7000 (context, word) pairs\n",
      "Processed 8000 (context, word) pairs\n",
      "Processed 9000 (context, word) pairs\n",
      "Processed 10000 (context, word) pairs\n",
      "Processed 11000 (context, word) pairs\n",
      "Epoch: 12 \tLoss: 84774.06478608097\n",
      "\n",
      "Processed 1000 (context, word) pairs\n",
      "Processed 2000 (context, word) pairs\n",
      "Processed 3000 (context, word) pairs\n",
      "Processed 4000 (context, word) pairs\n",
      "Processed 5000 (context, word) pairs\n",
      "Processed 6000 (context, word) pairs\n",
      "Processed 7000 (context, word) pairs\n",
      "Processed 8000 (context, word) pairs\n",
      "Processed 9000 (context, word) pairs\n",
      "Processed 10000 (context, word) pairs\n",
      "Processed 11000 (context, word) pairs\n",
      "Epoch: 13 \tLoss: 84764.0576490201\n",
      "\n",
      "Processed 1000 (context, word) pairs\n",
      "Processed 2000 (context, word) pairs\n",
      "Processed 3000 (context, word) pairs\n",
      "Processed 4000 (context, word) pairs\n",
      "Processed 5000 (context, word) pairs\n",
      "Processed 6000 (context, word) pairs\n",
      "Processed 7000 (context, word) pairs\n",
      "Processed 8000 (context, word) pairs\n",
      "Processed 9000 (context, word) pairs\n",
      "Processed 10000 (context, word) pairs\n",
      "Processed 11000 (context, word) pairs\n",
      "Epoch: 14 \tLoss: 84722.53733064258\n",
      "\n",
      "Processed 1000 (context, word) pairs\n",
      "Processed 2000 (context, word) pairs\n",
      "Processed 3000 (context, word) pairs\n",
      "Processed 4000 (context, word) pairs\n",
      "Processed 5000 (context, word) pairs\n",
      "Processed 6000 (context, word) pairs\n",
      "Processed 7000 (context, word) pairs\n",
      "Processed 8000 (context, word) pairs\n",
      "Processed 9000 (context, word) pairs\n",
      "Processed 10000 (context, word) pairs\n",
      "Processed 11000 (context, word) pairs\n",
      "Epoch: 15 \tLoss: 84658.06642418017\n",
      "\n",
      "Processed 1000 (context, word) pairs\n",
      "Processed 2000 (context, word) pairs\n",
      "Processed 3000 (context, word) pairs\n",
      "Processed 4000 (context, word) pairs\n",
      "Processed 5000 (context, word) pairs\n",
      "Processed 6000 (context, word) pairs\n",
      "Processed 7000 (context, word) pairs\n",
      "Processed 8000 (context, word) pairs\n",
      "Processed 9000 (context, word) pairs\n",
      "Processed 10000 (context, word) pairs\n",
      "Processed 11000 (context, word) pairs\n",
      "Epoch: 16 \tLoss: 84673.69661932893\n",
      "\n",
      "Processed 1000 (context, word) pairs\n",
      "Processed 2000 (context, word) pairs\n",
      "Processed 3000 (context, word) pairs\n",
      "Processed 4000 (context, word) pairs\n",
      "Processed 5000 (context, word) pairs\n",
      "Processed 6000 (context, word) pairs\n",
      "Processed 7000 (context, word) pairs\n",
      "Processed 8000 (context, word) pairs\n",
      "Processed 9000 (context, word) pairs\n",
      "Processed 10000 (context, word) pairs\n",
      "Processed 11000 (context, word) pairs\n",
      "Epoch: 17 \tLoss: 84719.45692739729\n",
      "\n",
      "Processed 1000 (context, word) pairs\n",
      "Processed 2000 (context, word) pairs\n",
      "Processed 3000 (context, word) pairs\n",
      "Processed 4000 (context, word) pairs\n",
      "Processed 5000 (context, word) pairs\n",
      "Processed 6000 (context, word) pairs\n",
      "Processed 7000 (context, word) pairs\n",
      "Processed 8000 (context, word) pairs\n",
      "Processed 9000 (context, word) pairs\n",
      "Processed 10000 (context, word) pairs\n",
      "Processed 11000 (context, word) pairs\n",
      "Epoch: 18 \tLoss: 84828.17075497669\n",
      "\n",
      "Processed 1000 (context, word) pairs\n",
      "Processed 2000 (context, word) pairs\n",
      "Processed 3000 (context, word) pairs\n",
      "Processed 4000 (context, word) pairs\n",
      "Processed 5000 (context, word) pairs\n",
      "Processed 6000 (context, word) pairs\n"
     ]
    },
    {
     "name": "stdout",
     "output_type": "stream",
     "text": [
      "Processed 7000 (context, word) pairs\n",
      "Processed 8000 (context, word) pairs\n",
      "Processed 9000 (context, word) pairs\n",
      "Processed 10000 (context, word) pairs\n",
      "Processed 11000 (context, word) pairs\n",
      "Epoch: 19 \tLoss: 84911.06213909219\n",
      "\n",
      "Processed 1000 (context, word) pairs\n",
      "Processed 2000 (context, word) pairs\n",
      "Processed 3000 (context, word) pairs\n",
      "Processed 4000 (context, word) pairs\n",
      "Processed 5000 (context, word) pairs\n",
      "Processed 6000 (context, word) pairs\n",
      "Processed 7000 (context, word) pairs\n",
      "Processed 8000 (context, word) pairs\n",
      "Processed 9000 (context, word) pairs\n",
      "Processed 10000 (context, word) pairs\n",
      "Processed 11000 (context, word) pairs\n",
      "Epoch: 20 \tLoss: 85068.15872458258\n",
      "\n",
      "Processed 1000 (context, word) pairs\n",
      "Processed 2000 (context, word) pairs\n",
      "Processed 3000 (context, word) pairs\n",
      "Processed 4000 (context, word) pairs\n",
      "Processed 5000 (context, word) pairs\n",
      "Processed 6000 (context, word) pairs\n",
      "Processed 7000 (context, word) pairs\n",
      "Processed 8000 (context, word) pairs\n",
      "Processed 9000 (context, word) pairs\n",
      "Processed 10000 (context, word) pairs\n",
      "Processed 11000 (context, word) pairs\n",
      "Epoch: 21 \tLoss: 85071.7693510346\n",
      "\n",
      "Processed 1000 (context, word) pairs\n",
      "Processed 2000 (context, word) pairs\n",
      "Processed 3000 (context, word) pairs\n",
      "Processed 4000 (context, word) pairs\n",
      "Processed 5000 (context, word) pairs\n",
      "Processed 6000 (context, word) pairs\n",
      "Processed 7000 (context, word) pairs\n",
      "Processed 8000 (context, word) pairs\n",
      "Processed 9000 (context, word) pairs\n",
      "Processed 10000 (context, word) pairs\n",
      "Processed 11000 (context, word) pairs\n",
      "Epoch: 22 \tLoss: 85323.67915750411\n",
      "\n",
      "Processed 1000 (context, word) pairs\n",
      "Processed 2000 (context, word) pairs\n",
      "Processed 3000 (context, word) pairs\n",
      "Processed 4000 (context, word) pairs\n",
      "Processed 5000 (context, word) pairs\n",
      "Processed 6000 (context, word) pairs\n",
      "Processed 7000 (context, word) pairs\n",
      "Processed 8000 (context, word) pairs\n",
      "Processed 9000 (context, word) pairs\n",
      "Processed 10000 (context, word) pairs\n",
      "Processed 11000 (context, word) pairs\n",
      "Epoch: 23 \tLoss: 85344.35044341558\n",
      "\n",
      "Processed 1000 (context, word) pairs\n",
      "Processed 2000 (context, word) pairs\n",
      "Processed 3000 (context, word) pairs\n",
      "Processed 4000 (context, word) pairs\n",
      "Processed 5000 (context, word) pairs\n",
      "Processed 6000 (context, word) pairs\n",
      "Processed 7000 (context, word) pairs\n",
      "Processed 8000 (context, word) pairs\n",
      "Processed 9000 (context, word) pairs\n",
      "Processed 10000 (context, word) pairs\n",
      "Processed 11000 (context, word) pairs\n",
      "Epoch: 24 \tLoss: 85449.47526475479\n",
      "\n"
     ]
    }
   ],
   "source": [
    "for epoch in range(1, nepochs):\n",
    "    loss = 0.\n",
    "    i = 0\n",
    "    # This is the inner loop that iterates through context-word pairs generated by the generate_context_word_pairs function. \n",
    "    # It uses the previously defined generator to yield these pairs from the training data.\n",
    "    for x, y in generate_context_word_pairs(corpus=wids, window_size=window_size, vocab_size=vocab_size):\n",
    "        i    += 1\n",
    "        # This line computes the loss for the current batch of context-word pairs and adds it to the running total loss. \n",
    "        # cbow is the CBOW model, and train_on_batch is used to perform a single update of the model's weights based on \n",
    "        # the batch.\n",
    "        loss += cbow.train_on_batch(x, y)\n",
    "        if i % 1000 == 0:\n",
    "            print('Processed {} (context, word) pairs'.format(i))\n",
    "\n",
    "    print('Epoch:', epoch, '\\tLoss:', loss)\n",
    "    print()"
   ]
  },
  {
   "cell_type": "markdown",
   "id": "4be8272e",
   "metadata": {},
   "source": [
    "The following code snippet extracts the word embeddings (weights) learned by the Continuous Bag of Words (CBOW) model and then creating a DataFrame to display these embeddings. Here's a step-by-step explanation of the code:\n",
    "\n",
    "1. `weights = cbow.get_weights()[0]`: This line retrieves the model's weights. The `cbow.get_weights()` method returns a list of all trainable parameters of the model, and in this case, we're interested in the first element of that list, which corresponds to the weights of the Embedding layer. The `weights` variable now contains the word embeddings, including both known and unknown words (e.g., padding).\n",
    "\n",
    "2. `weights = weights[1:]`: This line excludes the first row of the `weights` array. The reason for this is that the first row typically corresponds to the padding token or an out-of-vocabulary token, which is not part of the actual vocabulary. By removing this row, the `weights` array contains only the embeddings for words in the vocabulary.\n",
    "\n",
    "3. `print(weights.shape)`: This line prints the shape of the `weights` array. It provides information about the number of words in the vocabulary and the dimensionality of the word embeddings.\n",
    "\n",
    "4. `pd.DataFrame(weights, index=list(id2word.values())[1:]).head()`: This part of the code uses the Pandas library to create a DataFrame from the `weights` array, and it shows the first few rows. Here's what each part of this line does:\n",
    "   - `pd.DataFrame(weights, ...)` creates a DataFrame with the word embeddings stored in the `weights` array.\n",
    "   - `index=list(id2word.values())[1:]` sets the row labels of the DataFrame. It uses `id2word` dictionary as a map from word indices to words, and `list(id2word.values())[1:]` extracts the words from the vocabulary (excluding the padding or unknown word at index 0).\n",
    "   - `.head()` displays only the first few rows of the DataFrame.\n",
    "\n",
    "The end result of this code is a DataFrame that shows the word embeddings for the words in the vocabulary, which can be useful for visualizing and understanding how the model has represented different words in its embedding space. It's often used for tasks like word similarity and visualizing the relationships between words in the learned embedding space."
   ]
  },
  {
   "cell_type": "code",
   "execution_count": 42,
   "id": "c11965ad",
   "metadata": {},
   "outputs": [
    {
     "name": "stdout",
     "output_type": "stream",
     "text": [
      "(2378, 100)\n"
     ]
    },
    {
     "data": {
      "text/html": [
       "<div>\n",
       "<style scoped>\n",
       "    .dataframe tbody tr th:only-of-type {\n",
       "        vertical-align: middle;\n",
       "    }\n",
       "\n",
       "    .dataframe tbody tr th {\n",
       "        vertical-align: top;\n",
       "    }\n",
       "\n",
       "    .dataframe thead th {\n",
       "        text-align: right;\n",
       "    }\n",
       "</style>\n",
       "<table border=\"1\" class=\"dataframe\">\n",
       "  <thead>\n",
       "    <tr style=\"text-align: right;\">\n",
       "      <th></th>\n",
       "      <th>0</th>\n",
       "      <th>1</th>\n",
       "      <th>2</th>\n",
       "      <th>3</th>\n",
       "      <th>4</th>\n",
       "      <th>5</th>\n",
       "      <th>6</th>\n",
       "      <th>7</th>\n",
       "      <th>8</th>\n",
       "      <th>9</th>\n",
       "      <th>...</th>\n",
       "      <th>90</th>\n",
       "      <th>91</th>\n",
       "      <th>92</th>\n",
       "      <th>93</th>\n",
       "      <th>94</th>\n",
       "      <th>95</th>\n",
       "      <th>96</th>\n",
       "      <th>97</th>\n",
       "      <th>98</th>\n",
       "      <th>99</th>\n",
       "    </tr>\n",
       "  </thead>\n",
       "  <tbody>\n",
       "    <tr>\n",
       "      <th>alice</th>\n",
       "      <td>0.659587</td>\n",
       "      <td>-0.370356</td>\n",
       "      <td>0.033978</td>\n",
       "      <td>-0.382653</td>\n",
       "      <td>-0.605115</td>\n",
       "      <td>-0.488138</td>\n",
       "      <td>0.485675</td>\n",
       "      <td>-0.576641</td>\n",
       "      <td>0.295271</td>\n",
       "      <td>0.391492</td>\n",
       "      <td>...</td>\n",
       "      <td>-0.800001</td>\n",
       "      <td>-0.645227</td>\n",
       "      <td>0.343009</td>\n",
       "      <td>0.122946</td>\n",
       "      <td>0.103425</td>\n",
       "      <td>0.731445</td>\n",
       "      <td>-0.154404</td>\n",
       "      <td>-0.570582</td>\n",
       "      <td>0.501152</td>\n",
       "      <td>-0.021988</td>\n",
       "    </tr>\n",
       "    <tr>\n",
       "      <th>little</th>\n",
       "      <td>-0.115173</td>\n",
       "      <td>-0.201434</td>\n",
       "      <td>0.241396</td>\n",
       "      <td>0.139669</td>\n",
       "      <td>0.212713</td>\n",
       "      <td>0.012767</td>\n",
       "      <td>-0.416372</td>\n",
       "      <td>0.439747</td>\n",
       "      <td>-0.238473</td>\n",
       "      <td>0.364920</td>\n",
       "      <td>...</td>\n",
       "      <td>0.176004</td>\n",
       "      <td>0.500476</td>\n",
       "      <td>0.270878</td>\n",
       "      <td>-0.606384</td>\n",
       "      <td>-0.377740</td>\n",
       "      <td>0.018559</td>\n",
       "      <td>-0.631577</td>\n",
       "      <td>0.149897</td>\n",
       "      <td>0.026834</td>\n",
       "      <td>-0.342469</td>\n",
       "    </tr>\n",
       "    <tr>\n",
       "      <th>one</th>\n",
       "      <td>0.738218</td>\n",
       "      <td>-0.301046</td>\n",
       "      <td>-0.546976</td>\n",
       "      <td>-0.527589</td>\n",
       "      <td>-0.063052</td>\n",
       "      <td>-0.446419</td>\n",
       "      <td>-0.911571</td>\n",
       "      <td>0.112961</td>\n",
       "      <td>-0.008154</td>\n",
       "      <td>0.292402</td>\n",
       "      <td>...</td>\n",
       "      <td>-0.050305</td>\n",
       "      <td>-0.768602</td>\n",
       "      <td>-0.353555</td>\n",
       "      <td>0.294186</td>\n",
       "      <td>0.348689</td>\n",
       "      <td>-0.131532</td>\n",
       "      <td>0.294962</td>\n",
       "      <td>0.283967</td>\n",
       "      <td>-0.518381</td>\n",
       "      <td>-0.375599</td>\n",
       "    </tr>\n",
       "    <tr>\n",
       "      <th>would</th>\n",
       "      <td>-0.434203</td>\n",
       "      <td>0.271913</td>\n",
       "      <td>0.250620</td>\n",
       "      <td>-0.553513</td>\n",
       "      <td>0.203956</td>\n",
       "      <td>-0.267155</td>\n",
       "      <td>-0.403621</td>\n",
       "      <td>-0.162354</td>\n",
       "      <td>0.158466</td>\n",
       "      <td>-0.043063</td>\n",
       "      <td>...</td>\n",
       "      <td>-0.744255</td>\n",
       "      <td>0.736061</td>\n",
       "      <td>-0.376624</td>\n",
       "      <td>0.038636</td>\n",
       "      <td>-0.226928</td>\n",
       "      <td>-0.156947</td>\n",
       "      <td>-0.061064</td>\n",
       "      <td>0.043236</td>\n",
       "      <td>-0.228570</td>\n",
       "      <td>-0.662544</td>\n",
       "    </tr>\n",
       "    <tr>\n",
       "      <th>know</th>\n",
       "      <td>0.208025</td>\n",
       "      <td>0.044992</td>\n",
       "      <td>-0.118101</td>\n",
       "      <td>0.133459</td>\n",
       "      <td>0.148801</td>\n",
       "      <td>0.186411</td>\n",
       "      <td>0.192866</td>\n",
       "      <td>0.032639</td>\n",
       "      <td>0.050613</td>\n",
       "      <td>0.077829</td>\n",
       "      <td>...</td>\n",
       "      <td>0.122511</td>\n",
       "      <td>-0.091497</td>\n",
       "      <td>-0.024611</td>\n",
       "      <td>0.092526</td>\n",
       "      <td>-0.100215</td>\n",
       "      <td>-0.119329</td>\n",
       "      <td>-0.009762</td>\n",
       "      <td>0.198300</td>\n",
       "      <td>0.321767</td>\n",
       "      <td>0.357909</td>\n",
       "    </tr>\n",
       "  </tbody>\n",
       "</table>\n",
       "<p>5 rows × 100 columns</p>\n",
       "</div>"
      ],
      "text/plain": [
       "              0         1         2         3         4         5         6    \n",
       "alice   0.659587 -0.370356  0.033978 -0.382653 -0.605115 -0.488138  0.485675  \\\n",
       "little -0.115173 -0.201434  0.241396  0.139669  0.212713  0.012767 -0.416372   \n",
       "one     0.738218 -0.301046 -0.546976 -0.527589 -0.063052 -0.446419 -0.911571   \n",
       "would  -0.434203  0.271913  0.250620 -0.553513  0.203956 -0.267155 -0.403621   \n",
       "know    0.208025  0.044992 -0.118101  0.133459  0.148801  0.186411  0.192866   \n",
       "\n",
       "              7         8         9   ...        90        91        92   \n",
       "alice  -0.576641  0.295271  0.391492  ... -0.800001 -0.645227  0.343009  \\\n",
       "little  0.439747 -0.238473  0.364920  ...  0.176004  0.500476  0.270878   \n",
       "one     0.112961 -0.008154  0.292402  ... -0.050305 -0.768602 -0.353555   \n",
       "would  -0.162354  0.158466 -0.043063  ... -0.744255  0.736061 -0.376624   \n",
       "know    0.032639  0.050613  0.077829  ...  0.122511 -0.091497 -0.024611   \n",
       "\n",
       "              93        94        95        96        97        98        99  \n",
       "alice   0.122946  0.103425  0.731445 -0.154404 -0.570582  0.501152 -0.021988  \n",
       "little -0.606384 -0.377740  0.018559 -0.631577  0.149897  0.026834 -0.342469  \n",
       "one     0.294186  0.348689 -0.131532  0.294962  0.283967 -0.518381 -0.375599  \n",
       "would   0.038636 -0.226928 -0.156947 -0.061064  0.043236 -0.228570 -0.662544  \n",
       "know    0.092526 -0.100215 -0.119329 -0.009762  0.198300  0.321767  0.357909  \n",
       "\n",
       "[5 rows x 100 columns]"
      ]
     },
     "execution_count": 42,
     "metadata": {},
     "output_type": "execute_result"
    }
   ],
   "source": [
    "weights = cbow.get_weights()[0]\n",
    "weights = weights[1:]\n",
    "print(weights.shape)\n",
    "\n",
    "pd.DataFrame(weights, index=list(id2word.values())[1:]).head()"
   ]
  },
  {
   "cell_type": "markdown",
   "id": "bffb6bef",
   "metadata": {},
   "source": [
    "Now we can compute the pairwise Euclidean distances between word embeddings to find contextually similar words in the learned embedding space. It uses the `euclidean_distances` function from scikit-learn to calculate the distances. Here's a step-by-step explanation of the code:\n",
    "\n",
    "1. `from sklearn.metrics.pairwise import euclidean_distances`: This line imports the `euclidean_distances` function from scikit-learn, a Python library for machine learning and data analysis.\n",
    "\n",
    "2. `distance_matrix = euclidean_distances(weights)`: The `euclidean_distances` function is used to compute the pairwise Euclidean distances between word embeddings stored in the `weights` array. The `weights` array is assumed to be a 2D Numpy array where each row represents the word embedding vector for a specific word. This line computes a square distance matrix where `distance_matrix[i][j]` represents the Euclidean distance between the embeddings of words with indices `i` and `j`.\n",
    "\n",
    "3. `print(distance_matrix.shape)`: This line prints the shape of the `distance_matrix` to show the dimensions of the distance matrix. It's essentially showing the number of words for which distances have been calculated.\n",
    "\n",
    "4. `similar_words = {...}`: This part of the code creates a dictionary `similar_words` that will contain contextually similar words for a given set of search terms.\n",
    "\n",
    "5. The dictionary comprehension `[search_term: ... for search_term in ['cat', 'caterpillar', 'hat', 'alice', 'queen', 'heart']]` loops through a list of search terms, and for each term, it calculates contextually similar words by performing the following steps:\n",
    "\n",
    "   - `distance_matrix[word2id[search_term]-1]`: This retrieves the row in the distance matrix corresponding to the search term. `word2id[search_term]` is assumed to be a dictionary that maps words to their indices. `-1` is used because indices typically start at 0, and `word2id` might start word indices at 1.\n",
    "\n",
    "   - `.argsort()[1:6]+1`: This line sorts the indices of the words in ascending order of their Euclidean distances to the search term. `[1:6]` takes the top 5 closest words (excluding the search term itself), and `+1` is used to convert the indices back to start from 1 (assuming they started from 1 in the `word2id` dictionary).\n",
    "\n",
    "   - `[id2word[idx] for idx in ...]`: For each of the top 5 closest word indices, this code retrieves the corresponding word from the `id2word` dictionary, which maps word indices to words.\n",
    "\n",
    "The result is a dictionary that associates each search term with a list of contextually similar words. It's a way to explore the words that are semantically close to the given search terms in the learned embedding space. This can be used for tasks like word similarity or for understanding how words are distributed in the embedding space."
   ]
  },
  {
   "cell_type": "code",
   "execution_count": 43,
   "id": "265205f8",
   "metadata": {},
   "outputs": [
    {
     "name": "stdout",
     "output_type": "stream",
     "text": [
      "(2378, 2378)\n"
     ]
    },
    {
     "data": {
      "text/plain": [
       "{'cat': ['meant', 'experiment', 'prove', 'hoarse', 'whispers'],\n",
       " 'caterpillar': ['young', 'interrupt', 'vanished', 'clear', 'railway'],\n",
       " 'hat': ['cheeks', 'common', 'denial', 'brain', 'askance'],\n",
       " 'alice': ['better', 'cakes', 'beat', 'occurred', 'finding'],\n",
       " 'queen': ['croquet', 'play', 'ear', 'knave', 'hearts'],\n",
       " 'heart': ['remembering', 'grumbled', 'undo', 'race', 'mystery']}"
      ]
     },
     "execution_count": 43,
     "metadata": {},
     "output_type": "execute_result"
    }
   ],
   "source": [
    "from sklearn.metrics.pairwise import euclidean_distances\n",
    "\n",
    "# compute pairwise distance matrix\n",
    "distance_matrix = euclidean_distances(weights)\n",
    "print(distance_matrix.shape)\n",
    "\n",
    "# view contextually similar words\n",
    "similar_words = {search_term: [id2word[idx] for idx in distance_matrix[word2id[search_term]-1].argsort()[1:6]+1] \n",
    "                   for search_term in ['cat', 'caterpillar', 'hat', 'alice', 'queen', 'heart']}\n",
    "\n",
    "similar_words"
   ]
  },
  {
   "cell_type": "markdown",
   "id": "6d258458",
   "metadata": {},
   "source": [
    "In the last section, we perform dimensionality reduction and visualization of word embeddings using t-Distributed Stochastic Neighbor Embedding (t-SNE). It uses t-SNE to reduce the high-dimensional word embeddings into a two-dimensional space, which allows for the visualization of semantically similar words in a 2D scatter plot. Here's a breakdown of the code:\n",
    "\n",
    "1. **Import the necessary library**:\n",
    "   - `from sklearn.manifold import TSNE`: Import the t-SNE implementation from scikit-learn's `manifold` module.\n",
    "\n",
    "2. **Prepare data**:\n",
    "   - `words = sum([[k] + v for k, v in similar_words.items()], [])`: This line combines the original search terms with their contextually similar words and flattens them into a single list. `similar_words` is the dictionary created in the previous code snippet.\n",
    "   - `words_ids = [word2id[w] for w in words]`: This line maps the words to their corresponding word indices using the `word2id` dictionary.\n",
    "   - `word_vectors = np.array([weights[idx] for idx in words_ids])`: It retrieves the word vectors from the `weights` array based on the word indices and creates a Numpy array of word vectors. The `word_vectors` array now contains the word embeddings for the words of interest.\n",
    "\n",
    "3. **Print information**:\n",
    "   - `print('Total words:', len(words), '\\tWord Embedding shapes:', word_vectors.shape)`: This line prints the total number of words and the shape of the `word_vectors` array. It provides information about the dimensionality of the word vectors and the number of words being visualized.\n",
    "\n",
    "4. **t-SNE embedding**:\n",
    "   - `tsne = TSNE(n_components=2, random_state=0, n_iter=10000, perplexity=3)`: Create a t-SNE object with specified parameters:\n",
    "     - `n_components=2`: Embed the data into a 2D space.\n",
    "     - `random_state=0`: Set the random seed for reproducibility.\n",
    "     - `n_iter=10000`: The number of iterations for the optimization process.\n",
    "     - `perplexity=3`: A parameter controlling the balance between preserving local and global structure in the data.\n",
    "\n",
    "5. **Fit t-SNE**:\n",
    "   - `T = tsne.fit_transform(word_vectors)`: Apply t-SNE to reduce the dimensionality of the word vectors and create a 2D representation stored in the `T` array.\n",
    "\n",
    "6. **Plot the scatter plot**:\n",
    "   - `plt.figure(figsize=(14, 8))`: Create a figure for the scatter plot with the specified size.\n",
    "   - `plt.scatter(T[:, 0], T[:, 1], c='steelblue', edgecolors='k')`: Create a scatter plot with `T[:, 0]` as the x-coordinates and `T[:, 1]` as the y-coordinates. The `c` parameter sets the color of the points, and `edgecolors` sets the color of the point boundaries.\n",
    "\n",
    "7. **Label the points**:\n",
    "   - `for label, x, y in zip(labels, T[:, 0], T[:, 1]):`: This loop iterates through the labels and coordinates and labels the points in the scatter plot.\n",
    "   - `plt.annotate(label, xy=(x+1, y+1), xytext=(0, 0), textcoords='offset points')`: For each point, it annotates the plot with the word label, slightly offset from the point's coordinates for better visibility.\n",
    "\n",
    "The result is a scatter plot that visualizes the word embeddings in a 2D space, showing the relationships and similarities between words. This can be a valuable tool for understanding how words are distributed in the word embedding space and for exploring semantic relationships among words."
   ]
  },
  {
   "cell_type": "code",
   "execution_count": null,
   "id": "a027f057",
   "metadata": {},
   "outputs": [],
   "source": [
    "from sklearn.manifold import TSNE\n",
    "\n",
    "words = sum([[k] + v for k, v in similar_words.items()], [])\n",
    "words_ids = [word2id[w] for w in words]\n",
    "word_vectors = np.array([weights[idx] for idx in words_ids])\n",
    "print('Total words:', len(words), '\\tWord Embedding shapes:', word_vectors.shape)\n",
    "\n",
    "tsne = TSNE(n_components=2, random_state=0, n_iter=10000, perplexity=3)\n",
    "np.set_printoptions(suppress=True)\n",
    "T = tsne.fit_transform(word_vectors)\n",
    "labels = words\n",
    "\n",
    "plt.figure(figsize=(14, 8))\n",
    "plt.scatter(T[:, 0], T[:, 1], c='steelblue', edgecolors='k')\n",
    "for label, x, y in zip(labels, T[:, 0], T[:, 1]):\n",
    "    plt.annotate(label, xy=(x+1, y+1), xytext=(0, 0), textcoords='offset points')"
   ]
  },
  {
   "cell_type": "markdown",
   "id": "c6efd5f5",
   "metadata": {},
   "source": [
    "**Skip-gram**\n",
    "\n",
    "The Skip-gram model tries to predict the source context words (surrounding words) given a target word (the centre word). The working is conceptually similar to the CBOW, there is just a difference in the architecture of its NN and in the way the weight matrix is generated:\t "
   ]
  },
  {
   "cell_type": "markdown",
   "id": "651bac1d",
   "metadata": {},
   "source": [
    "![image.png](./img/3_1_text_vectorization_pic_16.png)"
   ]
  },
  {
   "cell_type": "markdown",
   "id": "c19d6848",
   "metadata": {},
   "source": [
    "# References and Credits\n",
    "\n",
    "\n",
    "\n",
    "Text Analytics with Python\n",
    "A Practitioner's Guide to Natural Language Processing\n",
    "Authors: Sarkar, Dipanjan"
   ]
  }
 ],
 "metadata": {
  "kernelspec": {
   "display_name": "Python 3 (ipykernel)",
   "language": "python",
   "name": "python3"
  },
  "language_info": {
   "codemirror_mode": {
    "name": "ipython",
    "version": 3
   },
   "file_extension": ".py",
   "mimetype": "text/x-python",
   "name": "python",
   "nbconvert_exporter": "python",
   "pygments_lexer": "ipython3",
   "version": "3.10.9"
  },
  "toc": {
   "base_numbering": "6",
   "nav_menu": {},
   "number_sections": true,
   "sideBar": true,
   "skip_h1_title": false,
   "title_cell": "Table of Contents",
   "title_sidebar": "Contents",
   "toc_cell": false,
   "toc_position": {},
   "toc_section_display": true,
   "toc_window_display": false
  }
 },
 "nbformat": 4,
 "nbformat_minor": 5
}
