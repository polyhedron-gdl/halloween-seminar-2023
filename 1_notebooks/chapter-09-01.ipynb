{
 "cells": [
  {
   "cell_type": "markdown",
   "id": "cf155872",
   "metadata": {},
   "source": [
    "# OpenAI API Examples"
   ]
  },
  {
   "cell_type": "markdown",
   "id": "d28ce19f",
   "metadata": {},
   "source": [
    "## Import Libraries"
   ]
  },
  {
   "cell_type": "code",
   "execution_count": 30,
   "id": "54851371",
   "metadata": {},
   "outputs": [],
   "source": [
    "import os"
   ]
  },
  {
   "cell_type": "markdown",
   "id": "d87d6d1b",
   "metadata": {},
   "source": [
    "To use OpenAI GPT-3 in Python, you will need to install the openai-python package. You can simply install the package with:"
   ]
  },
  {
   "cell_type": "code",
   "execution_count": 31,
   "id": "70c6ff71",
   "metadata": {},
   "outputs": [],
   "source": [
    "#!pip install openai"
   ]
  },
  {
   "cell_type": "code",
   "execution_count": 32,
   "id": "f1d95219",
   "metadata": {},
   "outputs": [],
   "source": [
    "# Import the OpenAI library\n",
    "import openai"
   ]
  },
  {
   "cell_type": "code",
   "execution_count": 33,
   "id": "e7f2bfb9",
   "metadata": {},
   "outputs": [],
   "source": [
    "# Set up your OpenAI API key\n",
    "openai.api_key = os.getenv('OPENAI_API_KEY')"
   ]
  },
  {
   "cell_type": "markdown",
   "id": "c0b42758",
   "metadata": {},
   "source": [
    "## Text Generation"
   ]
  },
  {
   "cell_type": "code",
   "execution_count": 34,
   "id": "feb726e3",
   "metadata": {},
   "outputs": [],
   "source": [
    "# Define a prompt for text generation\n",
    "prompt = 'You are a gastronomy expert. Write a short journalistic article that enthusiastically describes Bolognese cuisine'"
   ]
  },
  {
   "cell_type": "code",
   "execution_count": 35,
   "id": "7d2e6f78",
   "metadata": {},
   "outputs": [],
   "source": [
    "# Generate creative text\n",
    "response = openai.Completion.create(\n",
    "    model       = \"text-davinci-003\",\n",
    "    prompt      = prompt,\n",
    "    temperature = 0.1,\n",
    "    max_tokens  = 1000)"
   ]
  },
  {
   "cell_type": "code",
   "execution_count": 36,
   "id": "2c13d3ff",
   "metadata": {},
   "outputs": [
    {
     "name": "stdout",
     "output_type": "stream",
     "text": [
      ".\n",
      "\n",
      "Bolognese cuisine is a classic Italian favorite that has been delighting taste buds for centuries. This hearty and flavorful cuisine is a favorite among locals and visitors alike.\n",
      "\n",
      "The traditional Bolognese dish is a rich and savory meat-based sauce that is served over a bed of pasta. The sauce is made with a combination of ground beef, pork, and veal, as well as tomatoes, onions, garlic, and herbs. This combination of ingredients creates a complex and flavorful sauce that is sure to please.\n",
      "\n",
      "The Bolognese sauce is often served with a variety of different pastas, including spaghetti, rigatoni, and fettuccine. The sauce is also used in a variety of other dishes, such as lasagna and cannelloni.\n",
      "\n",
      "Bolognese cuisine is also known for its use of fresh ingredients. The region is known for its abundance of fresh vegetables, herbs, and cheeses. These ingredients are often used to create flavorful side dishes, such as sautéed vegetables and salads.\n",
      "\n",
      "Bolognese cuisine is a classic Italian favorite that is sure to please. With its rich and savory sauces, fresh ingredients, and variety of dishes, it is no wonder why Bolognese cuisine is so popular. Whether you are a local or a visitor, you are sure to enjoy the delicious flavors of Bolognese cuisine.\n"
     ]
    }
   ],
   "source": [
    "# Extract and print the generated text\n",
    "generated_text = response.choices[0].text\n",
    "print(generated_text)"
   ]
  },
  {
   "cell_type": "markdown",
   "id": "aa30df54",
   "metadata": {},
   "source": [
    "### What is Completition"
   ]
  },
  {
   "cell_type": "markdown",
   "id": "5ba9a0e5",
   "metadata": {},
   "source": [
    "In the context of GPT (Generative Pre-trained Transformer) programming, **completion** typically refers to the process of generating or completing a sequence of text based on an initial input or prompt. "
   ]
  },
  {
   "cell_type": "markdown",
   "id": "22c4c197",
   "metadata": {},
   "source": [
    "Here's how the completion method works:\n",
    "\n",
    "- Input Prompt: You provide a text prompt or context as input to the GPT-3.5 model. This prompt can be as short as a sentence or as long as a paragraph, depending on your requirements. The prompt sets the context for the model to generate text.\n",
    "\n",
    "- API Request: You make an API request to the OpenAI API, specifying the model, es. davinci engine (which uses the GPT-3.5 model), and the completions endpoint. You pass the input prompt as part of the request.\n",
    "\n",
    "- Model Processing: The GPT-3.5 model processes the input prompt and generates a continuation of the text based on the context provided. It's capable of understanding and completing text in a coherent and contextually relevant manner.\n",
    "\n",
    "- Response: The API returns a response that includes the text completion generated by the model. You can extract this generated text from the response and use it in your application.\n",
    "\n",
    "You can adjust the \"temperature\" parameter when making an API request. A higher temperature value (e.g., 0.8) makes the output more random and creative, while a lower value (e.g., 0.2) makes it more deterministic and focused."
   ]
  },
  {
   "cell_type": "markdown",
   "id": "3e9e9806",
   "metadata": {},
   "source": [
    "**Messages** are arrays of message objects. Each object has a `role` (system, user, assistant) and a `content`, the message as text."
   ]
  },
  {
   "cell_type": "code",
   "execution_count": 37,
   "id": "747c52f4",
   "metadata": {},
   "outputs": [
    {
     "name": "stdout",
     "output_type": "stream",
     "text": [
      "{\n",
      "  \"content\": \"Q: Why do programmers always mix up Christmas and Halloween? A: Because Oct 31 == Dec 25.\",\n",
      "  \"role\": \"assistant\"\n",
      "}\n"
     ]
    }
   ],
   "source": [
    "completion = openai.ChatCompletion.create(\n",
    "     model = \"gpt-3.5-turbo\"\n",
    "   , temperature = 0.8\n",
    "   , max_tokens  = 2000\n",
    "   , messages = [ {\"role\": \"system\", \"content\": \"You are a funny comedian who tells dad jokes.\"}\n",
    "                 ,{\"role\": \"user\", \"content\": \"Write a dad joke related to numbers.\"}\n",
    "                 ,{\"role\": \"assistant\", \"content\": \"Q: How do you make 7 even? A: Take away the s.\"}\n",
    "                 ,{\"role\": \"user\", \"content\": \"Write one related to programmers.\"}])\n",
    "\n",
    "print(completion.choices[0].message)"
   ]
  },
  {
   "cell_type": "code",
   "execution_count": 39,
   "id": "7ef8a9fd",
   "metadata": {},
   "outputs": [
    {
     "name": "stdout",
     "output_type": "stream",
     "text": [
      "{\n",
      "  \"choices\": [\n",
      "    {\n",
      "      \"finish_reason\": \"stop\",\n",
      "      \"index\": 0,\n",
      "      \"message\": {\n",
      "        \"content\": \"Q: Why do programmers always mix up Christmas and Halloween? A: Because Oct 31 == Dec 25.\",\n",
      "        \"role\": \"assistant\"\n",
      "      }\n",
      "    }\n",
      "  ],\n",
      "  \"created\": 1696426228,\n",
      "  \"id\": \"chatcmpl-85wFI8t9YhgsGyeuS6btMpWA16GT0\",\n",
      "  \"model\": \"gpt-3.5-turbo-0613\",\n",
      "  \"object\": \"chat.completion\",\n",
      "  \"usage\": {\n",
      "    \"completion_tokens\": 23,\n",
      "    \"prompt_tokens\": 60,\n",
      "    \"total_tokens\": 83\n",
      "  }\n",
      "}\n"
     ]
    }
   ],
   "source": [
    "print(completion)"
   ]
  },
  {
   "cell_type": "markdown",
   "id": "41b9a2f0",
   "metadata": {},
   "source": [
    "## Parse Unstructured Data"
   ]
  },
  {
   "cell_type": "code",
   "execution_count": 29,
   "id": "52d2b990",
   "metadata": {},
   "outputs": [],
   "source": [
    "prompt = \"You will be provided with unstructured data, and your task is to parse it into CSV format using ';' as a separator\"\n",
    "data   = \"There are many fruits that were found on the recently discovered planet Goocrux. There are neoskizzles that grow there, which are purple and taste like candy. There are also loheckles, which are a grayish blue fruit and are very tart, a little bit like a lemon. Pounits are a bright green color and are more savory than sweet. There are also plenty of loopnovas which are a neon pink flavor and taste like cotton candy. Finally, there are fruits called glowls, which have a very sour and bitter taste which is acidic and caustic, and a pale orange tinge to them.\""
   ]
  },
  {
   "cell_type": "code",
   "execution_count": 30,
   "id": "8a1b1b6a",
   "metadata": {},
   "outputs": [
    {
     "name": "stdout",
     "output_type": "stream",
     "text": [
      "{\n",
      "  \"content\": \"Fruit;Color;Taste\\nneoskizzles;purple;candy\\nloheckles;grayish blue;tart\\npounits;bright green;savory\\nloopnovas;neon pink;cotton candy\\nglowls;pale orange;sour and bitter\",\n",
      "  \"role\": \"assistant\"\n",
      "}\n"
     ]
    }
   ],
   "source": [
    "completion = openai.ChatCompletion.create(\n",
    "     model = \"gpt-3.5-turbo\"\n",
    "   , temperature = 0.8\n",
    "   , max_tokens  = 2000\n",
    "   , messages = [ {\"role\": \"system\", \"content\": prompt}\n",
    "                 ,{\"role\": \"user\"  , \"content\": data}\n",
    "                ])\n",
    "\n",
    "print(completion.choices[0].message)"
   ]
  },
  {
   "cell_type": "code",
   "execution_count": 31,
   "id": "7bae94dc",
   "metadata": {},
   "outputs": [
    {
     "name": "stdout",
     "output_type": "stream",
     "text": [
      "<table>\n",
      "  <tr>\n",
      "    <th>Fruit</th>\n",
      "    <th>Color</th>\n",
      "    <th>Taste</th>\n",
      "  </tr>\n",
      "  <tr>\n",
      "    <td>Neoskizzles</td>\n",
      "    <td>Purple</td>\n",
      "    <td>Tastes like candy</td>\n",
      "  </tr>\n",
      "  <tr>\n",
      "    <td>Loheckles</td>\n",
      "    <td>Grayish blue</td>\n",
      "    <td>Tart, like a lemon</td>\n",
      "  </tr>\n",
      "  <tr>\n",
      "    <td>Pounits</td>\n",
      "    <td>Bright green</td>\n",
      "    <td>More savory than sweet</td>\n",
      "  </tr>\n",
      "  <tr>\n",
      "    <td>Loopnovas</td>\n",
      "    <td>Neon pink</td>\n",
      "    <td>Tastes like cotton candy</td>\n",
      "  </tr>\n",
      "  <tr>\n",
      "    <td>Glowls</td>\n",
      "    <td>Pale orange</td>\n",
      "    <td>Sour, bitter, acidic, caustic</td>\n",
      "  </tr>\n",
      "</table>\n"
     ]
    }
   ],
   "source": [
    "completion = openai.ChatCompletion.create(\n",
    "     model = \"gpt-3.5-turbo\"\n",
    "   , temperature = 0.8\n",
    "   , max_tokens  = 2000\n",
    "   , messages = [ {\"role\": \"system\", \"content\": \"You will be provided with unstructured data, and your task is to parse it into HTML table format\"}\n",
    "                 ,{\"role\": \"user\", \"content\": \"There are many fruits that were found on the recently discovered planet Goocrux. There are neoskizzles that grow there, which are purple and taste like candy. There are also loheckles, which are a grayish blue fruit and are very tart, a little bit like a lemon. Pounits are a bright green color and are more savory than sweet. There are also plenty of loopnovas which are a neon pink flavor and taste like cotton candy. Finally, there are fruits called glowls, which have a very sour and bitter taste which is acidic and caustic, and a pale orange tinge to them.\"}\n",
    "                ])\n",
    "\n",
    "response = completion.choices[0].message \n",
    "print(response[\"content\"])"
   ]
  },
  {
   "cell_type": "code",
   "execution_count": 32,
   "id": "d08522ce",
   "metadata": {},
   "outputs": [],
   "source": [
    "from IPython.display import display, HTML"
   ]
  },
  {
   "cell_type": "code",
   "execution_count": 33,
   "id": "81cb47e7",
   "metadata": {},
   "outputs": [
    {
     "data": {
      "text/html": [
       "<table>\n",
       "  <tr>\n",
       "    <th>Fruit</th>\n",
       "    <th>Color</th>\n",
       "    <th>Taste</th>\n",
       "  </tr>\n",
       "  <tr>\n",
       "    <td>Neoskizzles</td>\n",
       "    <td>Purple</td>\n",
       "    <td>Tastes like candy</td>\n",
       "  </tr>\n",
       "  <tr>\n",
       "    <td>Loheckles</td>\n",
       "    <td>Grayish blue</td>\n",
       "    <td>Tart, like a lemon</td>\n",
       "  </tr>\n",
       "  <tr>\n",
       "    <td>Pounits</td>\n",
       "    <td>Bright green</td>\n",
       "    <td>More savory than sweet</td>\n",
       "  </tr>\n",
       "  <tr>\n",
       "    <td>Loopnovas</td>\n",
       "    <td>Neon pink</td>\n",
       "    <td>Tastes like cotton candy</td>\n",
       "  </tr>\n",
       "  <tr>\n",
       "    <td>Glowls</td>\n",
       "    <td>Pale orange</td>\n",
       "    <td>Sour, bitter, acidic, caustic</td>\n",
       "  </tr>\n",
       "</table>"
      ],
      "text/plain": [
       "<IPython.core.display.HTML object>"
      ]
     },
     "execution_count": 33,
     "metadata": {},
     "output_type": "execute_result"
    }
   ],
   "source": [
    "HTML(response[\"content\"])"
   ]
  },
  {
   "cell_type": "markdown",
   "id": "412d35ea",
   "metadata": {},
   "source": [
    "## Translation"
   ]
  },
  {
   "cell_type": "code",
   "execution_count": 34,
   "id": "d4ec9e93",
   "metadata": {},
   "outputs": [],
   "source": [
    "prompt   = \"You will be provided with a sentence in English, and your task is to translate it into Italian.\""
   ]
  },
  {
   "cell_type": "code",
   "execution_count": 36,
   "id": "70509291",
   "metadata": {},
   "outputs": [
    {
     "name": "stdout",
     "output_type": "stream",
     "text": [
      "Ci sono molti frutti che sono stati trovati sul pianeta Goocrux, recentemente scoperto. Ci sono neoskizzles che crescono lì, che sono viola e hanno un sapore simile ai caramelle. Ci sono anche loheckles, che sono un frutto grigio-azzurro e sono molto acidi, un po' come un limone. I pounits sono di un colore verde brillante e sono più saporiti che dolci. Ci sono anche molte loopnovas, che sono di un colore rosa neon e hanno un sapore di zucchero filato. Infine, ci sono dei frutti chiamati glowls, che hanno un sapore molto acido e amaro, che è acido e corrosivo, e un leggero tono arancione.\n"
     ]
    }
   ],
   "source": [
    "completion = openai.ChatCompletion.create(\n",
    "     model = \"gpt-3.5-turbo\"\n",
    "   , temperature = 0.8\n",
    "   , max_tokens  = 2000\n",
    "   , messages = [ {\"role\": \"system\", \"content\": prompt}\n",
    "                 ,{\"role\": \"user\"  , \"content\": data}\n",
    "                ])\n",
    "\n",
    "response = completion.choices[0].message\n",
    "response = response[\"content\"]\n",
    "print(response)"
   ]
  },
  {
   "cell_type": "markdown",
   "id": "f183a1cf",
   "metadata": {},
   "source": [
    "## Text Summarization"
   ]
  },
  {
   "cell_type": "code",
   "execution_count": 11,
   "id": "a05b35ab",
   "metadata": {},
   "outputs": [
    {
     "name": "stdout",
     "output_type": "stream",
     "text": [
      "\n",
      "In short, a neural network can either refer to a network of biological neurons or a network of artificial neurons. Artificial neural networks are used to solve AI problems by modeling connections between nodes as weights, and a linear combination and activation function is used to create an output within a specified range. They can be trained and can self-learn from experience.\n"
     ]
    }
   ],
   "source": [
    "# Define a long document to be summarized\n",
    "document = \"\"\"\n",
    "A neural network can refer to either a neural circuit of biological neurons (sometimes also called a biological neural network),\n",
    "or a network of artificial neurons or nodes in the case of an artificial neural network. Artificial neural networks are used \n",
    "for solving artificial intelligence (AI) problems; they model connections of biological neurons as weights between nodes. \n",
    "A positive weight reflects an excitatory connection, while negative values mean inhibitory connections. All inputs are \n",
    "modified by a weight and summed. This activity is referred to as a linear combination. Finally, an activation function \n",
    "controls the amplitude of the output. For example, an acceptable range of output is usually between 0 and 1, or it could \n",
    "be −1 and 1. These artificial networks may be used for predictive modeling, adaptive control and applications where they \n",
    "can be trained via a dataset. Self-learning resulting from experience can occur within networks, which can derive conclusions \n",
    "from a complex and seemingly unrelated set of information\n",
    "\"\"\"\n",
    "\n",
    "# Summarize the document\n",
    "response = openai.Completion.create(\n",
    "    engine=\"text-davinci-003\",\n",
    "    prompt=f\"Summarize the following document:\\n{document}\",\n",
    "    max_tokens=100  # Adjust as needed\n",
    ")\n",
    "\n",
    "# Extract and print the summary\n",
    "summary = response.choices[0].text\n",
    "print(summary)"
   ]
  },
  {
   "cell_type": "markdown",
   "id": "4db5bd28",
   "metadata": {},
   "source": [
    "## Sentiment Analysis"
   ]
  },
  {
   "cell_type": "markdown",
   "id": "aa007b80",
   "metadata": {},
   "source": [
    "Let’s define a function that takes a text input and returns the sentiment analysis result."
   ]
  },
  {
   "cell_type": "code",
   "execution_count": 22,
   "id": "87e38f0b",
   "metadata": {},
   "outputs": [],
   "source": [
    "def get_sentiment(text):\n",
    "    response = openai.Completion.create(\n",
    "        engine=\"text-davinci-002\",\n",
    "        prompt=f\"Sentiment analysis of the following text:\\n{text}\\n\",\n",
    "        temperature=0,\n",
    "    )\n",
    "    sentiment = response.choices[0].text.strip()\n",
    "    return sentiment"
   ]
  },
  {
   "cell_type": "markdown",
   "id": "7a3e2a0f",
   "metadata": {},
   "source": [
    "In this function, we are using the `Completion.create` method of the OpenAI API to get the sentiment analysis result. We are using the `text-davinci-002` engine for this task. As usual, the prompt parameter is used to provide the input text to the model, and the other parameters are used to control the behavior of the model."
   ]
  },
  {
   "cell_type": "code",
   "execution_count": 25,
   "id": "511f3947",
   "metadata": {},
   "outputs": [
    {
     "name": "stdout",
     "output_type": "stream",
     "text": [
      "The sentiment of the text is negative.\n"
     ]
    }
   ],
   "source": [
    "text = \"The film I saw yesterday was awesome!\"\n",
    "text = \"This item doesn't work at all for me!\"\n",
    "sentiment = get_sentiment(text)\n",
    "print(sentiment)"
   ]
  },
  {
   "cell_type": "markdown",
   "id": "1ca93b13",
   "metadata": {},
   "source": [
    "## Code Generation"
   ]
  },
  {
   "cell_type": "code",
   "execution_count": 29,
   "id": "f2bd7980",
   "metadata": {},
   "outputs": [
    {
     "name": "stdout",
     "output_type": "stream",
     "text": [
      ".\n",
      "\n",
      "def factorial(n): \n",
      "  \n",
      "    # Base Case - 1! = 1\n",
      "    if n == 1: \n",
      "        return 1\n",
      "  \n",
      "    # Recursive Case\n",
      "    else: \n",
      "        return n * factorial(n-1)\n"
     ]
    }
   ],
   "source": [
    "# Define a problem statement for code generation\n",
    "problem_statement = \"Create a Python function that calculates the factorial of a number.\"\n",
    "#problem_statement += \"Please insert also a comment to explain the code\"\n",
    "\n",
    "# Generate Python code\n",
    "response = openai.Completion.create(\n",
    "    engine=\"text-davinci-002\",\n",
    "    prompt=f\"Generate Python code for the following task:\\n{problem_statement}\",\n",
    "    max_tokens=100  # Adjust as needed\n",
    ")\n",
    "\n",
    "# Extract and print the generated code\n",
    "generated_code = response.choices[0].text\n",
    "print(generated_code)"
   ]
  },
  {
   "cell_type": "markdown",
   "id": "2ad1f9a4",
   "metadata": {},
   "source": [
    "## Reference and Credits"
   ]
  },
  {
   "cell_type": "markdown",
   "id": "6a3b509b",
   "metadata": {},
   "source": [
    "Documentation from the official site of OpenAI API"
   ]
  }
 ],
 "metadata": {
  "kernelspec": {
   "display_name": "Python 3 (ipykernel)",
   "language": "python",
   "name": "python3"
  },
  "language_info": {
   "codemirror_mode": {
    "name": "ipython",
    "version": 3
   },
   "file_extension": ".py",
   "mimetype": "text/x-python",
   "name": "python",
   "nbconvert_exporter": "python",
   "pygments_lexer": "ipython3",
   "version": "3.10.9"
  },
  "toc": {
   "base_numbering": "9",
   "nav_menu": {},
   "number_sections": true,
   "sideBar": true,
   "skip_h1_title": false,
   "title_cell": "Table of Contents",
   "title_sidebar": "Contents",
   "toc_cell": false,
   "toc_position": {},
   "toc_section_display": true,
   "toc_window_display": false
  }
 },
 "nbformat": 4,
 "nbformat_minor": 5
}
